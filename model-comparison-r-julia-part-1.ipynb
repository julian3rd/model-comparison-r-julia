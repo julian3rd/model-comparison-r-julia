{
 "cells": [
  {
   "cell_type": "markdown",
   "metadata": {},
   "source": [
    "#Statistical analysis and model checking with R and Julia\n",
    "# Part I: Implementation in R\n",
    "\n",
    "Recently, I decided to re-analyze some old data using increased knowledge of statistical analysis and model calls. But how do I know that if my results make any sense? One thing I have been recently doing is checking my model results using the `GLM` and `MixedModels` packages in Julia. Previously as a postdoc, since everyone else used JMP or SPSS, it would be independently done in those packages and often, not very well. While the results were mostly the same, I doubt there is much confidence when fitting very complicated model calls, such as when there were random slopes incorporated (JMP is not so good at this; SPSS is better).  \n",
    "\n",
    "So I will re-analyze several old datasets (two published) that might benefit:\n",
    "- 'Circlipses' (already done in R and published)\n",
    "- M100 analysis (already done in R and published)\n",
    "- Psychophysical vowel perception (revisiting dissertation data; done in R; working on publishing revisions)"
   ]
  },
  {
   "cell_type": "markdown",
   "metadata": {},
   "source": [
    "## 'Circlipses' (audiovisual integration)\n",
    "Since this has already been demonstrated (github.com/julian3rd/circlipses-revisited), we will skip right to the initial model calls."
   ]
  },
  {
   "cell_type": "code",
   "execution_count": 1,
   "metadata": {
    "collapsed": true
   },
   "outputs": [],
   "source": [
    "%load_ext rpy2.ipython"
   ]
  },
  {
   "cell_type": "code",
   "execution_count": 2,
   "metadata": {
    "collapsed": false,
    "scrolled": true
   },
   "outputs": [
    {
     "data": {
      "text/plain": [
       "Classes ‘tbl_df’, ‘tbl’ and 'data.frame':\t672 obs. of  7 variables:\n",
       " $ Subject: chr  \"r1532\" \"r1532\" \"r1532\" \"r1532\" ...\n",
       " $ Hem    : chr  \"1-lh\" \"1-lh\" \"1-lh\" \"1-lh\" ...\n",
       " $ Harm   : chr  \"1-Fm\" \"1-Fm\" \"1-Fm\" \"1-Fm\" ...\n",
       " $ Cond   : chr  \"1-Uni\" \"1-Uni\" \"1-Uni\" \"2-Zero\" ...\n",
       " $ Area   : chr  \"1-AntTem\" \"2-PosTem\" \"3-Occ\" \"1-AntTem\" ...\n",
       " $ LinPwr : num  4.31e+15 2.89e+15 2.97e+18 4.37e+16 2.06e+17 ...\n",
       " $ dBPwr  : num  156 155 185 166 173 ...\n"
      ]
     },
     "metadata": {},
     "output_type": "display_data"
    }
   ],
   "source": [
    "%%R\n",
    "library(readr)\n",
    "\n",
    "data.path <- \n",
    "  'https://raw.githubusercontent.com/julian3rd/model-comparison-r-julia/master/data/circlipse-pwr-data-final-2015.csv'\n",
    "\n",
    "circlipse.pwr.data <- read_csv(data.path, col_names = TRUE)\n",
    "\n",
    "str(circlipse.pwr.data)"
   ]
  },
  {
   "cell_type": "markdown",
   "metadata": {},
   "source": [
    "The below wound up being the most parsimonious model."
   ]
  },
  {
   "cell_type": "code",
   "execution_count": 3,
   "metadata": {
    "collapsed": false
   },
   "outputs": [
    {
     "data": {
      "text/plain": [
       "Loading required package: Matrix\n",
       "\n",
       "Attaching package: ‘Matrix’\n",
       "\n",
       "The following objects are masked from ‘package:base’:\n",
       "\n",
       "    crossprod, tcrossprod\n",
       "\n",
       "Loading required package: Rcpp\n",
       "Linear mixed model fit by maximum likelihood  ['lmerMod']\n",
       "Formula: dBPwr ~ Hem + Harm + Cond + Area + Hem:Area + Harm:Area + Cond:Area +  \n",
       "    (Hem + Harm + Cond | Subject)\n",
       "   Data: circlipse.pwr.data\n",
       "\n",
       "     AIC      BIC   logLik deviance df.resid \n",
       "  4717.2   4897.6  -2318.6   4637.2      632 \n",
       "\n",
       "Scaled residuals: \n",
       "    Min      1Q  Median      3Q     Max \n",
       "-4.0091 -0.5682  0.0702  0.6692  2.7253 \n",
       "\n",
       "Random effects:\n",
       " Groups   Name             Variance Std.Dev. Corr                         \n",
       " Subject  (Intercept)      19.579   4.425                                 \n",
       "          Hem2-rh           6.687   2.586    -0.22                        \n",
       "          Harm2-SecondHarm 10.954   3.310    -0.74 -0.19                  \n",
       "          Cond2-Zero        4.028   2.007     0.35 -0.26  0.15            \n",
       "          Cond3-HalfPi      2.546   1.596    -0.57  0.55  0.53  0.36      \n",
       "          Cond4-Pi          6.124   2.475    -0.15 -0.14  0.49  0.87  0.68\n",
       " Residual                  52.330   7.234                                 \n",
       "Number of obs: 672, groups:  Subject, 14\n",
       "\n",
       "Fixed effects:\n",
       "                              Estimate Std. Error t value\n",
       "(Intercept)                   156.9356     1.6734   93.78\n",
       "Hem2-rh                         0.3401     1.1883    0.29\n",
       "Harm2-SecondHarm               -9.3037     1.3103   -7.10\n",
       "Cond2-Zero                     -1.1611     1.4686   -0.79\n",
       "Cond3-HalfPi                   -2.2569     1.4321   -1.58\n",
       "Cond4-Pi                       -1.5214     1.5187   -1.00\n",
       "Area2-PosTem                    2.4515     1.6743    1.46\n",
       "Area3-Occ                      11.1300     1.6743    6.65\n",
       "Hem2-rh:Area2-PosTem            0.4073     1.3671    0.30\n",
       "Hem2-rh:Area3-Occ              -2.9268     1.3671   -2.14\n",
       "Harm2-SecondHarm:Area2-PosTem   3.0482     1.3671    2.23\n",
       "Harm2-SecondHarm:Area3-Occ      2.7782     1.3671    2.03\n",
       "Cond2-Zero:Area2-PosTem         6.9447     1.9334    3.59\n",
       "Cond3-HalfPi:Area2-PosTem       8.0022     1.9334    4.14\n",
       "Cond4-Pi:Area2-PosTem           6.9785     1.9334    3.61\n",
       "Cond2-Zero:Area3-Occ           -0.8563     1.9334   -0.44\n",
       "Cond3-HalfPi:Area3-Occ          1.6780     1.9334    0.87\n",
       "Cond4-Pi:Area3-Occ             -0.1961     1.9334   -0.10\n",
       "\n",
       "Correlation of Fixed Effects:\n",
       "            (Intr) Hm2-rh Hr2-SH Cnd2-Z Cn3-HP Cnd4-P Ar2-PT Ar3-Oc H2-:A2\n",
       "Hem2-rh     -0.327                                                        \n",
       "Hrm2-ScndHr -0.567 -0.074                                                 \n",
       "Cond2-Zero  -0.291 -0.055  0.036                                          \n",
       "Cond3-HalfP -0.510  0.096  0.107  0.483                                   \n",
       "Cond4-Pi    -0.415 -0.035  0.145  0.557  0.518                            \n",
       "Area2-PosTm -0.500  0.235  0.213  0.380  0.390  0.368                     \n",
       "Area3-Occ   -0.500  0.235  0.213  0.380  0.390  0.368  0.500              \n",
       "Hm2-r:A2-PT  0.204 -0.575  0.000  0.000  0.000  0.000 -0.408 -0.204       \n",
       "Hm2-rh:A3-O  0.204 -0.575  0.000  0.000  0.000  0.000 -0.204 -0.408  0.500\n",
       "H2-SH:A2-PT  0.204  0.000 -0.522  0.000  0.000  0.000 -0.408 -0.204  0.000\n",
       "Hr2-SH:A3-O  0.204  0.000 -0.522  0.000  0.000  0.000 -0.204 -0.408  0.000\n",
       "Cn2-Z:A2-PT  0.289  0.000  0.000 -0.658 -0.338 -0.318 -0.577 -0.289  0.000\n",
       "C3-HP:A2-PT  0.289  0.000  0.000 -0.329 -0.675 -0.318 -0.577 -0.289  0.000\n",
       "Cn4-P:A2-PT  0.289  0.000  0.000 -0.329 -0.338 -0.637 -0.577 -0.289  0.000\n",
       "Cnd2-Z:A3-O  0.289  0.000  0.000 -0.658 -0.338 -0.318 -0.289 -0.577  0.000\n",
       "Cn3-HP:A3-O  0.289  0.000  0.000 -0.329 -0.675 -0.318 -0.289 -0.577  0.000\n",
       "Cnd4-P:A3-O  0.289  0.000  0.000 -0.329 -0.338 -0.637 -0.289 -0.577  0.000\n",
       "            H2-:A3 H2-SH:A2 H2-SH:A3 C2-Z:A2 C3-HP:A2 C4-P:A2 C2-Z:A3 C3-HP:A3\n",
       "Hem2-rh                                                                       \n",
       "Hrm2-ScndHr                                                                   \n",
       "Cond2-Zero                                                                    \n",
       "Cond3-HalfP                                                                   \n",
       "Cond4-Pi                                                                      \n",
       "Area2-PosTm                                                                   \n",
       "Area3-Occ                                                                     \n",
       "Hm2-r:A2-PT                                                                   \n",
       "Hm2-rh:A3-O                                                                   \n",
       "H2-SH:A2-PT  0.000                                                            \n",
       "Hr2-SH:A3-O  0.000  0.500                                                     \n",
       "Cn2-Z:A2-PT  0.000  0.000    0.000                                            \n",
       "C3-HP:A2-PT  0.000  0.000    0.000    0.500                                   \n",
       "Cn4-P:A2-PT  0.000  0.000    0.000    0.500   0.500                           \n",
       "Cnd2-Z:A3-O  0.000  0.000    0.000    0.500   0.250    0.250                  \n",
       "Cn3-HP:A3-O  0.000  0.000    0.000    0.250   0.500    0.250   0.500          \n",
       "Cnd4-P:A3-O  0.000  0.000    0.000    0.250   0.250    0.500   0.500   0.500  \n"
      ]
     },
     "metadata": {},
     "output_type": "display_data"
    }
   ],
   "source": [
    "%%R \n",
    "library(lme4)\n",
    "interact.model.parsim <- lmer(dBPwr ~ Hem + Harm + Cond + Area + Hem:Area + Harm:Area + Cond:Area +\n",
    "                             (Hem + Harm + Cond | Subject), data = circlipse.pwr.data, REML = FALSE)\n",
    "print(summary(interact.model.parsim))"
   ]
  },
  {
   "cell_type": "markdown",
   "metadata": {},
   "source": [
    "## M100 analysis in 16p11.2 deletion and duplication\n",
    "This is data from a recently published study examining M100 latency in typically-developing children, children with 16p11.2 deletions and 16p11.2 duplications (http://cercor.oxfordjournals.org/content/early/2015/02/11/cercor.bhv008.short?rss=1). The end result was that children with 16p11.2 deletions exhibited delayed M100 latencies relative to controls; there was no significant difference between 16p11.2 duplications and controls. These data have not only fixed effects but also a continuous covariate of Age that must be accounted for."
   ]
  },
  {
   "cell_type": "code",
   "execution_count": 4,
   "metadata": {
    "collapsed": false
   },
   "outputs": [
    {
     "data": {
      "text/plain": [
       "Classes ‘tbl_df’, ‘tbl’ and 'data.frame':\t792 obs. of  7 variables:\n",
       " $ Subject    : chr  \"3002-102\" \"3002-102\" \"3002-102\" \"3002-102\" ...\n",
       " $ Site       : chr  \"UCSF\" \"UCSF\" \"UCSF\" \"UCSF\" ...\n",
       " $ Age_Calc   : num  10.8 10.8 10.8 10.8 10.8 ...\n",
       " $ Case       : chr  \"duplication\" \"duplication\" \"duplication\" \"duplication\" ...\n",
       " $ Hem        : chr  \"1-LH\" \"1-LH\" \"1-LH\" \"1-LH\" ...\n",
       " $ Cond       : chr  \"1-200\" \"2-300\" \"3-500\" \"4-1000\" ...\n",
       " $ M100LatCorr: num  NA NA NA NA 134 120 118 138 152 148 ...\n"
      ]
     },
     "metadata": {},
     "output_type": "display_data"
    }
   ],
   "source": [
    "%%R\n",
    "\n",
    "data.path <- \n",
    "  'https://raw.githubusercontent.com/julian3rd/model-comparison-r-julia/master/data/simons-child-data-final.csv'\n",
    "\n",
    "child.data <- \n",
    "  read_csv(data.path, col_names = TRUE, col_types = c('ccdcccd'))\n",
    "str(child.data)"
   ]
  },
  {
   "cell_type": "code",
   "execution_count": 5,
   "metadata": {
    "collapsed": false
   },
   "outputs": [],
   "source": [
    "%%R\n",
    "\n",
    "child.addmodel <- \n",
    "  lmer(M100LatCorr ~ Hem + Cond + Case + Age_Calc + Site + (Cond + Hem|Subject),\n",
    "       data = child.data, REML = F)"
   ]
  },
  {
   "cell_type": "code",
   "execution_count": 6,
   "metadata": {
    "collapsed": false
   },
   "outputs": [
    {
     "data": {
      "text/plain": [
       "Linear mixed model fit by maximum likelihood  ['lmerMod']\n",
       "Formula: M100LatCorr ~ Hem + Cond + Case + Age_Calc + Site + (Cond + Hem |  \n",
       "    Subject)\n",
       "   Data: child.data\n",
       "\n",
       "     AIC      BIC   logLik deviance df.resid \n",
       "  4253.0   4360.0  -2101.5   4203.0      509 \n",
       "\n",
       "Scaled residuals: \n",
       "    Min      1Q  Median      3Q     Max \n",
       "-4.6691 -0.4596 -0.0101  0.4325  2.6082 \n",
       "\n",
       "Random effects:\n",
       " Groups   Name        Variance Std.Dev. Corr                   \n",
       " Subject  (Intercept) 479.23   21.891                          \n",
       "          Cond2-300    13.28    3.644    0.32                  \n",
       "          Cond3-500    41.98    6.479   -0.09  0.66            \n",
       "          Cond4-1000   75.08    8.665   -0.31  0.61  0.89      \n",
       "          Hem2-RH     364.62   19.095   -0.51 -0.13  0.22  0.00\n",
       " Residual              49.67    7.048                          \n",
       "Number of obs: 534, groups:  Subject, 96\n",
       "\n",
       "Fixed effects:\n",
       "                Estimate Std. Error t value\n",
       "(Intercept)     192.3710    10.4107  18.478\n",
       "Hem2-RH         -14.5908     2.2934  -6.362\n",
       "Cond2-300        -4.4720     1.0271  -4.354\n",
       "Cond3-500        -8.7888     1.1908  -7.381\n",
       "Cond4-1000      -16.5421     1.3258 -12.477\n",
       "Casedeletion     20.9438     4.3431   4.822\n",
       "Caseduplication  -5.4485     5.5698  -0.978\n",
       "Age_Calc         -3.9318     0.7395  -5.317\n",
       "SiteUCSF         -2.4539     3.8051  -0.645\n",
       "\n",
       "Correlation of Fixed Effects:\n",
       "            (Intr) Hm2-RH C2-300 C3-500 C4-100 Csdltn Csdplc Ag_Clc\n",
       "Hem2-RH     -0.138                                                 \n",
       "Cond2-300   -0.057 -0.035                                          \n",
       "Cond3-500   -0.092  0.132  0.546                                   \n",
       "Cond4-1000  -0.103  0.014  0.516  0.697                            \n",
       "Casedeletin -0.459  0.064  0.002  0.005 -0.003                     \n",
       "Caseduplctn -0.332 -0.001 -0.029 -0.029 -0.017  0.374              \n",
       "Age_Calc    -0.924  0.001  0.045  0.042  0.015  0.276  0.188       \n",
       "SiteUCSF    -0.228 -0.012  0.001 -0.004  0.009  0.157  0.148  0.002\n"
      ]
     },
     "metadata": {},
     "output_type": "display_data"
    }
   ],
   "source": [
    "%R print(summary(child.addmodel))"
   ]
  },
  {
   "cell_type": "markdown",
   "metadata": {},
   "source": [
    "## Proportion correct analysis in AX task\n",
    "These data are taken from an experiment from my dissertation (still trying to get published) that involved observers indicating whether or not they perceived a pair of signals being identical or different. Responses (1 = correct, 0 = incorrect) and RT were recorded; only correct/incorrect responses will be analyzed. The 'real' analysis involves using an GLMM with a binomial errors (logit link function). However, since I cannot implement this in Julia just yet I will take the GLM approach and not include the random effect terms."
   ]
  },
  {
   "cell_type": "code",
   "execution_count": 7,
   "metadata": {
    "collapsed": false
   },
   "outputs": [
    {
     "data": {
      "text/plain": [
       "Classes ‘tbl_df’, ‘tbl’ and 'data.frame':\t12800 obs. of  10 variables:\n",
       " $ SubjectAssgn: chr  \"a-i-subject-1\" \"a-i-subject-1\" \"a-i-subject-1\" \"a-i-subject-1\" ...\n",
       " $ GenID       : chr  \"Subject1\" \"Subject1\" \"Subject1\" \"Subject1\" ...\n",
       " $ ExpAssgn    : chr  \"a-i\" \"a-i\" \"a-i\" \"a-i\" ...\n",
       " $ Vowel       : chr  \"a\" \"a\" \"a\" \"a\" ...\n",
       " $ Item        : chr  \"a-2-2\" \"a-2-2\" \"a-2-2\" \"a-2-2\" ...\n",
       " $ ItemType    : chr  \"same\" \"same\" \"same\" \"same\" ...\n",
       " $ RespNum     : num  1 1 1 1 1 1 1 1 1 1 ...\n",
       " $ RespNum2    : num  100 100 100 100 100 100 100 100 100 100 ...\n",
       " $ absRT       : num  685 707 443 561 535 ...\n",
       " $ logAbsRT    : num  2.84 2.85 2.65 2.75 2.73 ...\n"
      ]
     },
     "metadata": {},
     "output_type": "display_data"
    }
   ],
   "source": [
    "%%R\n",
    "\n",
    "data.path <- \n",
    "  'https://raw.githubusercontent.com/julian3rd/model-comparison-r-julia/master/data/psycho-data-frame.csv'\n",
    "\n",
    "psycho.data <- read_csv(data.path, col_names = TRUE, col_types = c('ccccccdddd'))\n",
    "\n",
    "str(psycho.data)"
   ]
  },
  {
   "cell_type": "code",
   "execution_count": 8,
   "metadata": {
    "collapsed": true
   },
   "outputs": [],
   "source": [
    "%%R\n",
    "\n",
    "#generate pair levels (simplifies plot and analysis)\n",
    "psycho.data$ItemPair <- \n",
    "  gl( n = 10, k = 20,\n",
    "      labels = c('2-2','23-2','23-23','23-4','23-square','2-square','4-2', '4-4','4-square','square-square'))"
   ]
  },
  {
   "cell_type": "code",
   "execution_count": 9,
   "metadata": {
    "collapsed": false
   },
   "outputs": [],
   "source": [
    "%%R\n",
    "\n",
    "psycho.vowel.glm <- glm(RespNum ~ Vowel, binomial, data = psycho.data)\n",
    "\n",
    "psycho.item.pair.glm <- glm(RespNum ~ ItemPair, binomial, data = psycho.data)\n",
    "\n",
    "psycho.vowel.item.glm <-  glm(RespNum ~ Vowel * ItemType, binomial, data = psycho.data)\n",
    "\n",
    "psycho.item.glm <- glm(RespNum ~ Item, binomial, data = psycho.data)"
   ]
  },
  {
   "cell_type": "code",
   "execution_count": 10,
   "metadata": {
    "collapsed": false
   },
   "outputs": [
    {
     "data": {
      "text/plain": [
       "\n",
       "Call:\n",
       "glm(formula = RespNum ~ Vowel, family = binomial, data = psycho.data)\n",
       "\n",
       "Deviance Residuals: \n",
       "    Min       1Q   Median       3Q      Max  \n",
       "-1.8011  -1.2060   0.6634   1.1491   1.1491  \n",
       "\n",
       "Coefficients:\n",
       "            Estimate Std. Error z value Pr(>|z|)    \n",
       "(Intercept)  0.06690    0.02501   2.675  0.00748 ** \n",
       "Voweli       1.33509    0.05096  26.197  < 2e-16 ***\n",
       "Vowelu       0.84983    0.04645  18.297  < 2e-16 ***\n",
       "---\n",
       "Signif. codes:  0 ‘***’ 0.001 ‘**’ 0.01 ‘*’ 0.05 ‘.’ 0.1 ‘ ’ 1\n",
       "\n",
       "(Dispersion parameter for binomial family taken to be 1)\n",
       "\n",
       "    Null deviance: 16763  on 12799  degrees of freedom\n",
       "Residual deviance: 15874  on 12797  degrees of freedom\n",
       "AIC: 15880\n",
       "\n",
       "Number of Fisher Scoring iterations: 4\n",
       "\n"
      ]
     },
     "metadata": {},
     "output_type": "display_data"
    }
   ],
   "source": [
    "%R print(summary(psycho.vowel.glm))"
   ]
  },
  {
   "cell_type": "code",
   "execution_count": 11,
   "metadata": {
    "collapsed": false
   },
   "outputs": [
    {
     "data": {
      "text/plain": [
       "\n",
       "Call:\n",
       "glm(formula = RespNum ~ ItemPair, family = binomial, data = psycho.data)\n",
       "\n",
       "Deviance Residuals: \n",
       "    Min       1Q   Median       3Q      Max  \n",
       "-2.2537  -0.9165   0.4319   0.9657   2.1720  \n",
       "\n",
       "Coefficients:\n",
       "                      Estimate Std. Error z value Pr(>|z|)    \n",
       "(Intercept)            2.32514    0.09813  23.694   <2e-16 ***\n",
       "ItemPair23-2          -1.88373    0.11362 -16.579   <2e-16 ***\n",
       "ItemPair23-23         -0.11920    0.13554  -0.879    0.379    \n",
       "ItemPair23-4          -2.97523    0.11444 -25.998   <2e-16 ***\n",
       "ItemPair23-square     -1.80430    0.11389 -15.842   <2e-16 ***\n",
       "ItemPair2-square      -4.58466    0.13696 -33.476   <2e-16 ***\n",
       "ItemPair4-2           -2.13708    0.11306 -18.902   <2e-16 ***\n",
       "ItemPair4-4           -0.17894    0.13403  -1.335    0.182    \n",
       "ItemPair4-square      -2.21565    0.11298 -19.611   <2e-16 ***\n",
       "ItemPairsquare-square  0.13217    0.14275   0.926    0.355    \n",
       "---\n",
       "Signif. codes:  0 ‘***’ 0.001 ‘**’ 0.01 ‘*’ 0.05 ‘.’ 0.1 ‘ ’ 1\n",
       "\n",
       "(Dispersion parameter for binomial family taken to be 1)\n",
       "\n",
       "    Null deviance: 16763  on 12799  degrees of freedom\n",
       "Residual deviance: 12547  on 12790  degrees of freedom\n",
       "AIC: 12567\n",
       "\n",
       "Number of Fisher Scoring iterations: 5\n",
       "\n"
      ]
     },
     "metadata": {},
     "output_type": "display_data"
    }
   ],
   "source": [
    "%R print(summary(psycho.item.pair.glm))"
   ]
  },
  {
   "cell_type": "code",
   "execution_count": 12,
   "metadata": {
    "collapsed": false
   },
   "outputs": [
    {
     "data": {
      "text/plain": [
       "\n",
       "Call:\n",
       "glm(formula = RespNum ~ Vowel * ItemType, family = binomial, \n",
       "    data = psycho.data)\n",
       "\n",
       "Deviance Residuals: \n",
       "    Min       1Q   Median       3Q      Max  \n",
       "-2.1874  -0.7709   0.4418   0.7885   1.6484  \n",
       "\n",
       "Coefficients:\n",
       "                    Estimate Std. Error z value Pr(>|z|)    \n",
       "(Intercept)         -1.06146    0.03693  -28.74   <2e-16 ***\n",
       "Voweli               2.07040    0.06343   32.64   <2e-16 ***\n",
       "Vowelu               1.40436    0.05924   23.71   <2e-16 ***\n",
       "ItemTypesame         3.33014    0.07720   43.14   <2e-16 ***\n",
       "Voweli:ItemTypesame -2.06117    0.13372  -15.41   <2e-16 ***\n",
       "Vowelu:ItemTypesame -1.37646    0.13232  -10.40   <2e-16 ***\n",
       "---\n",
       "Signif. codes:  0 ‘***’ 0.001 ‘**’ 0.01 ‘*’ 0.05 ‘.’ 0.1 ‘ ’ 1\n",
       "\n",
       "(Dispersion parameter for binomial family taken to be 1)\n",
       "\n",
       "    Null deviance: 16763  on 12799  degrees of freedom\n",
       "Residual deviance: 12380  on 12794  degrees of freedom\n",
       "AIC: 12392\n",
       "\n",
       "Number of Fisher Scoring iterations: 4\n",
       "\n"
      ]
     },
     "metadata": {},
     "output_type": "display_data"
    }
   ],
   "source": [
    "%R print(summary(psycho.vowel.item.glm))"
   ]
  },
  {
   "cell_type": "code",
   "execution_count": 13,
   "metadata": {
    "collapsed": false
   },
   "outputs": [
    {
     "data": {
      "text/plain": [
       "\n",
       "Call:\n",
       "glm(formula = RespNum ~ Item, family = binomial, data = psycho.data)\n",
       "\n",
       "Deviance Residuals: \n",
       "    Min       1Q   Median       3Q      Max  \n",
       "-2.3548  -0.5133   0.4359   0.5098   2.4478  \n",
       "\n",
       "Coefficients:\n",
       "                      Estimate Std. Error z value Pr(>|z|)    \n",
       "(Intercept)          2.250e+00  1.346e-01  16.718  < 2e-16 ***\n",
       "Itema-2-square      -5.195e+00  2.259e-01 -23.001  < 2e-16 ***\n",
       "Itema-23-2          -2.695e+00  1.571e-01 -17.154  < 2e-16 ***\n",
       "Itema-23-23         -8.745e-02  1.871e-01  -0.467   0.6402    \n",
       "Itema-23-4          -4.211e+00  1.804e-01 -23.335  < 2e-16 ***\n",
       "Itema-23-square     -2.675e+00  1.570e-01 -17.038  < 2e-16 ***\n",
       "Itema-4-2           -3.046e+00  1.594e-01 -19.108  < 2e-16 ***\n",
       "Itema-4-4            3.768e-14  1.904e-01   0.000   1.0000    \n",
       "Itema-4-square      -3.236e+00  1.613e-01 -20.061  < 2e-16 ***\n",
       "Itema-square-square  1.751e-01  1.976e-01   0.886   0.3757    \n",
       "Itemi-2-2            1.339e-01  2.420e-01   0.553   0.5801    \n",
       "Itemi-2-square      -3.758e+00  1.979e-01 -18.988  < 2e-16 ***\n",
       "Itemi-23-2          -5.320e-02  2.299e-01  -0.231   0.8170    \n",
       "Itemi-23-23          5.560e-02  2.367e-01   0.235   0.8143    \n",
       "Itemi-23-4          -1.084e+00  1.881e-01  -5.763 8.25e-09 ***\n",
       "Itemi-23-square      5.560e-02  2.367e-01   0.235   0.8143    \n",
       "Itemi-4-2           -6.335e-01  2.018e-01  -3.139   0.0017 ** \n",
       "Itemi-4-4           -1.208e-01  2.259e-01  -0.535   0.5928    \n",
       "Itemi-4-square      -8.045e-01  1.959e-01  -4.107 4.01e-05 ***\n",
       "Itemi-square-square  5.560e-02  2.367e-01   0.235   0.8143    \n",
       "Itemu-2-2            1.751e-01  2.449e-01   0.715   0.4748    \n",
       "Itemu-2-square      -4.483e+00  2.320e-01 -19.320  < 2e-16 ***\n",
       "Itemu-23-2          -1.135e+00  1.869e-01  -6.073 1.25e-09 ***\n",
       "Itemu-23-23         -5.320e-02  2.299e-01  -0.231   0.8170    \n",
       "Itemu-23-4          -2.815e+00  1.779e-01 -15.825  < 2e-16 ***\n",
       "Itemu-23-square     -8.045e-01  1.959e-01  -4.107 4.01e-05 ***\n",
       "Itemu-4-2           -1.249e+00  1.845e-01  -6.774 1.25e-11 ***\n",
       "Itemu-4-4           -2.756e-01  2.175e-01  -1.267   0.2051    \n",
       "Itemu-4-square      -1.118e+00  1.873e-01  -5.971 2.36e-09 ***\n",
       "Itemu-square-square  4.576e-01  2.673e-01   1.712   0.0869 .  \n",
       "---\n",
       "Signif. codes:  0 ‘***’ 0.001 ‘**’ 0.01 ‘*’ 0.05 ‘.’ 0.1 ‘ ’ 1\n",
       "\n",
       "(Dispersion parameter for binomial family taken to be 1)\n",
       "\n",
       "    Null deviance: 16763  on 12799  degrees of freedom\n",
       "Residual deviance: 10823  on 12770  degrees of freedom\n",
       "AIC: 10883\n",
       "\n",
       "Number of Fisher Scoring iterations: 5\n",
       "\n"
      ]
     },
     "metadata": {},
     "output_type": "display_data"
    }
   ],
   "source": [
    "%R print(summary(psycho.item.glm))"
   ]
  },
  {
   "cell_type": "markdown",
   "metadata": {},
   "source": [
    "## Output and conclusion\n",
    "So we now have tables that give our coefficients, and in some cases exact(-ish) p-values for those coefficients and can get effect sizes from those. The models are also pretty well-behaved. Let's now switch to Julia and see if our results are at least consistent."
   ]
  },
  {
   "cell_type": "code",
   "execution_count": 14,
   "metadata": {
    "collapsed": false
   },
   "outputs": [
    {
     "name": "stdout",
     "output_type": "stream",
     "text": [
      "IPython version:  3.1.0\n"
     ]
    }
   ],
   "source": [
    "import IPython\n",
    "print 'IPython version: ', IPython.__version__"
   ]
  },
  {
   "cell_type": "code",
   "execution_count": 15,
   "metadata": {
    "collapsed": false
   },
   "outputs": [
    {
     "data": {
      "text/plain": [
       "R version 3.1.3 (2015-03-09)\n",
       "Platform: x86_64-apple-darwin13.4.0 (64-bit)\n",
       "Running under: OS X 10.9.5 (Mavericks)\n",
       "\n",
       "locale:\n",
       "[1] en_US.UTF-8/en_US.UTF-8/en_US.UTF-8/C/en_US.UTF-8/en_US.UTF-8\n",
       "\n",
       "attached base packages:\n",
       "[1] tools     stats     graphics  grDevices utils     datasets  methods  \n",
       "[8] base     \n",
       "\n",
       "other attached packages:\n",
       "[1] lme4_1.1-7   Rcpp_0.11.6  Matrix_1.2-0 readr_0.1.0 \n",
       "\n",
       "loaded via a namespace (and not attached):\n",
       "[1] curl_0.5        grid_3.1.3      lattice_0.20-31 MASS_7.3-40    \n",
       "[5] minqa_1.2.4     nlme_3.1-120    nloptr_1.0.4    splines_3.1.3  \n"
      ]
     },
     "metadata": {},
     "output_type": "display_data"
    }
   ],
   "source": [
    "%R print(sessionInfo())"
   ]
  }
 ],
 "metadata": {
  "kernelspec": {
   "display_name": "Python 2",
   "language": "python",
   "name": "python2"
  },
  "language_info": {
   "codemirror_mode": {
    "name": "ipython",
    "version": 2
   },
   "file_extension": ".py",
   "mimetype": "text/x-python",
   "name": "python",
   "nbconvert_exporter": "python",
   "pygments_lexer": "ipython2",
   "version": "2.7.9"
  }
 },
 "nbformat": 4,
 "nbformat_minor": 0
}
