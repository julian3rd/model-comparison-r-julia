{
 "cells": [
  {
   "cell_type": "markdown",
   "metadata": {},
   "source": [
    "#Statistical analysis and model checking with R and Julia\n",
    "# Part II: Implementation in Julia\n",
    "\n",
    "In the first part, data from three previously completed experiments were analyzed in R. As a point of comparison and a way to check models, the data are now analyzed in Julia.  \n",
    "\n",
    "The next step is to use the Julia language and its `MixedModels` and `GLM`package in order to see if we get similar results. First we need to know what packages to use, how to import data and then how model calls differ in R and Julia."
   ]
  },
  {
   "cell_type": "markdown",
   "metadata": {},
   "source": [
    "## Packages\n",
    "There are three packages of primary interest:\n",
    "- `DataFrames`\n",
    "- `MixedModels`\n",
    "- `GLM`  \n",
    "\n",
    "These will be used to import data and implement the LMMs and GLMs, respectively. They also load in other useful packages, such as `Distributions`."
   ]
  },
  {
   "cell_type": "markdown",
   "metadata": {},
   "source": [
    "## 'Circlipses' (audiovisual integration)\n",
    "The first step will be to import data and see what the structure is."
   ]
  },
  {
   "cell_type": "code",
   "execution_count": 1,
   "metadata": {
    "collapsed": false
   },
   "outputs": [],
   "source": [
    "using DataFrames\n",
    "\n",
    "# I suggest cloning since DataFrames will not download from the URL;\n",
    "# If you like, change the corresponding code in Part 1 if you clone\n",
    "\n",
    "dataset = \"~/GitHub/model-comparison-r-julia/data/circlipse-pwr-data-final-2015.csv\"\n",
    "\n",
    "circlipse_pwr_data = readtable(expanduser(dataset), header = true);"
   ]
  },
  {
   "cell_type": "code",
   "execution_count": 2,
   "metadata": {
    "collapsed": false
   },
   "outputs": [
    {
     "data": {
      "text/plain": [
       "DataFrame (constructor with 11 methods)"
      ]
     },
     "execution_count": 2,
     "metadata": {},
     "output_type": "execute_result"
    }
   ],
   "source": [
    "typeof(circlipse_pwr_data)"
   ]
  },
  {
   "cell_type": "code",
   "execution_count": 3,
   "metadata": {
    "collapsed": false
   },
   "outputs": [
    {
     "data": {
      "text/html": [
       "<table class=\"data-frame\"><tr><th></th><th>Subject</th><th>Hem</th><th>Harm</th><th>Cond</th><th>Area</th><th>LinPwr</th><th>dBPwr</th></tr><tr><th>1</th><td>r1532</td><td>1-lh</td><td>1-Fm</td><td>1-Uni</td><td>1-AntTem</td><td>4.31e15</td><td>156.3464854</td></tr><tr><th>2</th><td>r1532</td><td>1-lh</td><td>1-Fm</td><td>1-Uni</td><td>2-PosTem</td><td>2.89e15</td><td>154.6139347</td></tr><tr><th>3</th><td>r1532</td><td>1-lh</td><td>1-Fm</td><td>1-Uni</td><td>3-Occ</td><td>2.97e18</td><td>184.7342857</td></tr><tr><th>4</th><td>r1532</td><td>1-lh</td><td>1-Fm</td><td>2-Zero</td><td>1-AntTem</td><td>4.37e16</td><td>166.4075961</td></tr><tr><th>5</th><td>r1532</td><td>1-lh</td><td>1-Fm</td><td>2-Zero</td><td>2-PosTem</td><td>2.06e17</td><td>173.1441501</td></tr><tr><th>6</th><td>r1532</td><td>1-lh</td><td>1-Fm</td><td>2-Zero</td><td>3-Occ</td><td>1.61e18</td><td>182.0758051</td></tr></table>"
      ],
      "text/plain": [
       "6x7 DataFrame\n",
       "| Row | Subject | Hem    | Harm   | Cond     | Area       | LinPwr  | dBPwr   |\n",
       "|-----|---------|--------|--------|----------|------------|---------|---------|\n",
       "| 1   | \"r1532\" | \"1-lh\" | \"1-Fm\" | \"1-Uni\"  | \"1-AntTem\" | 4.31e15 | 156.346 |\n",
       "| 2   | \"r1532\" | \"1-lh\" | \"1-Fm\" | \"1-Uni\"  | \"2-PosTem\" | 2.89e15 | 154.614 |\n",
       "| 3   | \"r1532\" | \"1-lh\" | \"1-Fm\" | \"1-Uni\"  | \"3-Occ\"    | 2.97e18 | 184.734 |\n",
       "| 4   | \"r1532\" | \"1-lh\" | \"1-Fm\" | \"2-Zero\" | \"1-AntTem\" | 4.37e16 | 166.408 |\n",
       "| 5   | \"r1532\" | \"1-lh\" | \"1-Fm\" | \"2-Zero\" | \"2-PosTem\" | 2.06e17 | 173.144 |\n",
       "| 6   | \"r1532\" | \"1-lh\" | \"1-Fm\" | \"2-Zero\" | \"3-Occ\"    | 1.61e18 | 182.076 |"
      ]
     },
     "execution_count": 3,
     "metadata": {},
     "output_type": "execute_result"
    }
   ],
   "source": [
    "head(circlipse_pwr_data)"
   ]
  },
  {
   "cell_type": "markdown",
   "metadata": {},
   "source": [
    "Let's look more carefully at the structure of the data:"
   ]
  },
  {
   "cell_type": "code",
   "execution_count": 4,
   "metadata": {
    "collapsed": false
   },
   "outputs": [
    {
     "name": "stdout",
     "output_type": "stream",
     "text": [
      "DataFrame  672 observations of 7 variables\n",
      "  Subject: DataArray{UTF8String,1}(672) UTF8String[\"r1532\",\"r1532\",\"r1532\",\"r1532\"]\n",
      "  Hem: DataArray{UTF8String,1}(672) UTF8String[\"1-lh\",\"1-lh\",\"1-lh\",\"1-lh\"]\n",
      "  Harm: DataArray{UTF8String,1}(672) UTF8String[\"1-Fm\",\"1-Fm\",\"1-Fm\",\"1-Fm\"]\n",
      "  Cond: DataArray{UTF8String,1}(672) UTF8String[\"1-Uni\",\"1-Uni\",\"1-Uni\",\"2-Zero\"]\n",
      "  Area: DataArray{UTF8String,1}(672) UTF8String[\"1-AntTem\",\"2-PosTem\",\"3-Occ\",\"1-AntTem\"]\n",
      "  LinPwr: DataArray{Float64,1}(672) [4.31e15,2.89e15,2.97e18,4.37e16]\n",
      "  dBPwr: DataArray{Float64,1}(672) [156.346,154.614,184.734,166.408]\n"
     ]
    }
   ],
   "source": [
    "dump(circlipse_pwr_data)"
   ]
  },
  {
   "cell_type": "markdown",
   "metadata": {},
   "source": [
    "From the previous analyses, we know that the columns `Subject, Hem, Harm, Cond and Area` are all character strings. In order to implement the LMM, we need change these from the class `DataArray` to `PooledDataArray`."
   ]
  },
  {
   "cell_type": "code",
   "execution_count": 5,
   "metadata": {
    "collapsed": true
   },
   "outputs": [],
   "source": [
    "# need to do this (in-place) so as to be able to fit LMMs\n",
    "pool!(circlipse_pwr_data, [:Subject, :Hem, :Harm, :Cond, :Area])"
   ]
  },
  {
   "cell_type": "code",
   "execution_count": 6,
   "metadata": {
    "collapsed": false
   },
   "outputs": [
    {
     "name": "stdout",
     "output_type": "stream",
     "text": [
      "DataFrame  672 observations of 7 variables\n",
      "  Subject: PooledDataArray{UTF8String,Uint8,1}(672) UTF8String[\"r1532\",\"r1532\",\"r1532\",\"r1532\"]\n",
      "  Hem: PooledDataArray{UTF8String,Uint8,1}(672) UTF8String[\"1-lh\",\"1-lh\",\"1-lh\",\"1-lh\"]\n",
      "  Harm: PooledDataArray{UTF8String,Uint8,1}(672) UTF8String[\"1-Fm\",\"1-Fm\",\"1-Fm\",\"1-Fm\"]\n",
      "  Cond: PooledDataArray{UTF8String,Uint8,1}(672) UTF8String[\"1-Uni\",\"1-Uni\",\"1-Uni\",\"2-Zero\"]\n",
      "  Area: PooledDataArray{UTF8String,Uint8,1}(672) UTF8String[\"1-AntTem\",\"2-PosTem\",\"3-Occ\",\"1-AntTem\"]\n",
      "  LinPwr: DataArray{Float64,1}(672) [4.31e15,2.89e15,2.97e18,4.37e16]\n",
      "  dBPwr: DataArray{Float64,1}(672) [156.346,154.614,184.734,166.408]\n"
     ]
    }
   ],
   "source": [
    "dump(circlipse_pwr_data)"
   ]
  },
  {
   "cell_type": "markdown",
   "metadata": {},
   "source": [
    "The model syntax is slightly different for the `MixedModels` package. The most parsimonious model in R was this:  \n",
    "\n",
    "`lmer(dBPwr ~ Hem + Harm + Cond + Area + Hem:Area + Harm:Area + Cond:Area + (Hem + Harm + Cond | Subject), data = circlipse.pwr.data, REML = FALSE)`  \n",
    "\n",
    "The '`:`' will be replaced by '`&`' in Julia and the model will be fit via maximum likelihood by default."
   ]
  },
  {
   "cell_type": "code",
   "execution_count": 7,
   "metadata": {
    "collapsed": false
   },
   "outputs": [
    {
     "data": {
      "text/plain": [
       "Linear mixed model fit by maximum likelihood\n",
       "Formula: dBPwr ~ Hem + Harm + Cond + Area + Hem & Area + Harm & Area + Cond & Area + ((Hem + Harm + Cond) | Subject)\n",
       "\n",
       " logLik: -2318.589913, deviance: 4637.179826\n",
       "\n",
       "Variance components:\n",
       "           Variance   Std.Dev.   Corr.\n",
       " Subject  19.5799879 4.4249280\n",
       "           6.6874648 2.5860133 -0.22\n",
       "          10.9537050 3.3096382 -0.74 -0.74\n",
       "           4.0285954 2.0071361  0.35  0.35  0.35\n",
       "           2.5462567 1.5956994 -0.57 -0.57 -0.57 -0.57\n",
       "           6.1240922 2.4746903 -0.15 -0.15 -0.15 -0.15 -0.15\n",
       " Residual 52.3303999 7.2339754\n",
       " Number of obs: 672; levels of grouping factors: 14\n",
       "\n",
       "  Fixed-effects parameters:\n",
       "                                Estimate Std.Error   z value\n",
       "(Intercept)                      156.936    1.6734   93.7823\n",
       "Hem2-rh                         0.340135   1.18834  0.286228\n",
       "Harm2-SecondHarm                -9.30368    1.3103  -7.10044\n",
       "Cond2-Zero                       -1.1611   1.46857 -0.790631\n",
       "Cond3-HalfPi                    -2.25693   1.43207  -1.57599\n",
       "Cond4-Pi                        -1.52144   1.51868  -1.00182\n",
       "Area2-PosTem                     2.45151   1.67434   1.46417\n",
       "Area3-Occ                          11.13   1.67434   6.64741\n",
       "Hem2-rh&Area2-PosTem            0.407301   1.36709  0.297932\n",
       "Hem2-rh&Area3-Occ               -2.92678   1.36709  -2.14088\n",
       "Harm2-SecondHarm&Area2-PosTem    3.04818   1.36709   2.22968\n",
       "Harm2-SecondHarm&Area3-Occ       2.77817   1.36709   2.03217\n",
       "Cond2-Zero&Area2-PosTem          6.94475   1.93336   3.59206\n",
       "Cond2-Zero&Area3-Occ             8.00223   1.93336   4.13902\n",
       "Cond3-HalfPi&Area2-PosTem        6.97847   1.93336    3.6095\n",
       "Cond3-HalfPi&Area3-Occ         -0.856327   1.93336 -0.442921\n",
       "Cond4-Pi&Area2-PosTem            1.67798   1.93336  0.867911\n",
       "Cond4-Pi&Area3-Occ             -0.196085   1.93336 -0.101422\n"
      ]
     },
     "execution_count": 7,
     "metadata": {},
     "output_type": "execute_result"
    }
   ],
   "source": [
    "using MixedModels\n",
    "\n",
    "interact_model_parsim = fit(lmm(dBPwr ~ Hem + Harm + Cond + Area + Hem & Area + Harm & Area + Cond & Area +\n",
    "(Hem + Harm + Cond | Subject), circlipse_pwr_data))"
   ]
  },
  {
   "cell_type": "raw",
   "metadata": {},
   "source": [
    "Linear mixed model fit by maximum likelihood  ['lmerMod']\n",
    "Formula: dBPwr ~ Hem + Harm + Cond + Area + Hem:Area + Harm:Area + Cond:Area +  \n",
    "    (Hem + Harm + Cond | Subject)\n",
    "   Data: circlipse.pwr.data\n",
    "\n",
    "     AIC      BIC   logLik deviance df.resid \n",
    "  4717.2   4897.6  -2318.6   4637.2      632 \n",
    "\n",
    "Scaled residuals: \n",
    "    Min      1Q  Median      3Q     Max \n",
    "-4.0091 -0.5682  0.0702  0.6692  2.7253 \n",
    "\n",
    "Random effects:\n",
    " Groups   Name             Variance Std.Dev. Corr                         \n",
    " Subject  (Intercept)      19.579   4.425                                 \n",
    "          Hem2-rh           6.687   2.586    -0.22                        \n",
    "          Harm2-SecondHarm 10.954   3.310    -0.74 -0.19                  \n",
    "          Cond2-Zero        4.028   2.007     0.35 -0.26  0.15            \n",
    "          Cond3-HalfPi      2.546   1.596    -0.57  0.55  0.53  0.36      \n",
    "          Cond4-Pi          6.124   2.475    -0.15 -0.14  0.49  0.87  0.68\n",
    " Residual                  52.330   7.234                                 \n",
    "Number of obs: 672, groups:  Subject, 14\n",
    "\n",
    "Fixed effects:\n",
    "                              Estimate Std. Error t value\n",
    "(Intercept)                   156.9356     1.6734   93.78\n",
    "Hem2-rh                         0.3401     1.1883    0.29\n",
    "Harm2-SecondHarm               -9.3037     1.3103   -7.10\n",
    "Cond2-Zero                     -1.1611     1.4686   -0.79\n",
    "Cond3-HalfPi                   -2.2569     1.4321   -1.58\n",
    "Cond4-Pi                       -1.5214     1.5187   -1.00\n",
    "Area2-PosTem                    2.4515     1.6743    1.46\n",
    "Area3-Occ                      11.1300     1.6743    6.65\n",
    "Hem2-rh:Area2-PosTem            0.4073     1.3671    0.30\n",
    "Hem2-rh:Area3-Occ              -2.9268     1.3671   -2.14\n",
    "Harm2-SecondHarm:Area2-PosTem   3.0482     1.3671    2.23\n",
    "Harm2-SecondHarm:Area3-Occ      2.7782     1.3671    2.03\n",
    "Cond2-Zero:Area2-PosTem         6.9447     1.9334    3.59\n",
    "Cond3-HalfPi:Area2-PosTem       8.0022     1.9334    4.14\n",
    "Cond4-Pi:Area2-PosTem           6.9785     1.9334    3.61\n",
    "Cond2-Zero:Area3-Occ           -0.8563     1.9334   -0.44\n",
    "Cond3-HalfPi:Area3-Occ          1.6780     1.9334    0.87\n",
    "Cond4-Pi:Area3-Occ             -0.1961     1.9334   -0.10\n"
   ]
  },
  {
   "cell_type": "markdown",
   "metadata": {},
   "source": [
    "Aside from precision differences, the results are identical."
   ]
  },
  {
   "cell_type": "markdown",
   "metadata": {},
   "source": [
    "## M100 analysis in 16p11.2 deletion and duplication\n",
    "For the M100 analysis, we will follow the same procedure: import the data, columns to a form `MixedModels` can understand, compare the output. I cheated a bit and exported the subsetted data from R as well as removed the missing observations from the dependent variable."
   ]
  },
  {
   "cell_type": "code",
   "execution_count": 8,
   "metadata": {
    "collapsed": true
   },
   "outputs": [],
   "source": [
    "dataset = \"~/GitHub/model-comparison-r-julia/data/simons-child-data-experimental-na-removed.csv\"\n",
    "\n",
    "child_data = readtable(expanduser(dataset), header = true);"
   ]
  },
  {
   "cell_type": "code",
   "execution_count": 9,
   "metadata": {
    "collapsed": false
   },
   "outputs": [
    {
     "data": {
      "text/html": [
       "<table class=\"data-frame\"><tr><th></th><th>Subject</th><th>Site</th><th>Exclusions</th><th>DOS</th><th>DOB</th><th>Age</th><th>Age_Calc</th><th>AgeGroup</th><th>Gender</th><th>Handedness</th><th>Dx</th><th>Chromosome</th><th>Case</th><th>Copies</th><th>ASD</th><th>NVIQ</th><th>VIQ</th><th>CELF_4</th><th>SRS_parent</th><th>SRS_adult</th><th>CTOPP</th><th>ICV2</th><th>cmICV</th><th>Hem</th><th>Cond</th><th>M50Lat</th><th>M100Lat</th><th>M50LatCorr</th><th>M100LatCorr</th><th>dB_SL</th></tr><tr><th>1</th><td>3002-102</td><td>UCSF</td><td>no</td><td>11/4/11</td><td>1/24/01</td><td>10</td><td>10.784</td><td>child</td><td>male</td><td>right</td><td>proband</td><td>16p</td><td>duplication</td><td>duplication</td><td>FALSE</td><td>77</td><td>86</td><td>75</td><td>145</td><td>NA</td><td>6</td><td>1.422313912e6</td><td>1422.313912</td><td>2-RH</td><td>1-200</td><td>NA</td><td>162</td><td>NA</td><td>134</td><td>25.0</td></tr><tr><th>2</th><td>3002-102</td><td>UCSF</td><td>no</td><td>11/4/11</td><td>1/24/01</td><td>10</td><td>10.784</td><td>child</td><td>male</td><td>right</td><td>proband</td><td>16p</td><td>duplication</td><td>duplication</td><td>FALSE</td><td>77</td><td>86</td><td>75</td><td>145</td><td>NA</td><td>6</td><td>1.422313912e6</td><td>1422.313912</td><td>2-RH</td><td>2-300</td><td>NA</td><td>148</td><td>NA</td><td>120</td><td>25.0</td></tr><tr><th>3</th><td>3002-102</td><td>UCSF</td><td>no</td><td>11/4/11</td><td>1/24/01</td><td>10</td><td>10.784</td><td>child</td><td>male</td><td>right</td><td>proband</td><td>16p</td><td>duplication</td><td>duplication</td><td>FALSE</td><td>77</td><td>86</td><td>75</td><td>145</td><td>NA</td><td>6</td><td>1.422313912e6</td><td>1422.313912</td><td>2-RH</td><td>3-500</td><td>NA</td><td>146</td><td>NA</td><td>118</td><td>25.0</td></tr><tr><th>4</th><td>3002-102</td><td>UCSF</td><td>no</td><td>11/4/11</td><td>1/24/01</td><td>10</td><td>10.784</td><td>child</td><td>male</td><td>right</td><td>proband</td><td>16p</td><td>duplication</td><td>duplication</td><td>FALSE</td><td>77</td><td>86</td><td>75</td><td>145</td><td>NA</td><td>6</td><td>1.422313912e6</td><td>1422.313912</td><td>2-RH</td><td>4-1000</td><td>116</td><td>166</td><td>88</td><td>138</td><td>25.0</td></tr><tr><th>5</th><td>3003-101</td><td>UCSF</td><td>no</td><td>11/18/11</td><td>3/3/99</td><td>12</td><td>12.721</td><td>child</td><td>male</td><td>right</td><td>proband</td><td>16p</td><td>deletion</td><td>deletion</td><td>FALSE</td><td>102</td><td>106</td><td>88</td><td>6</td><td>NA</td><td>3</td><td>1.717376378e6</td><td>1717.376378</td><td>1-LH</td><td>1-200</td><td>NA</td><td>180</td><td>NA</td><td>152</td><td>24.0</td></tr><tr><th>6</th><td>3003-101</td><td>UCSF</td><td>no</td><td>11/18/11</td><td>3/3/99</td><td>12</td><td>12.721</td><td>child</td><td>male</td><td>right</td><td>proband</td><td>16p</td><td>deletion</td><td>deletion</td><td>FALSE</td><td>102</td><td>106</td><td>88</td><td>6</td><td>NA</td><td>3</td><td>1.717376378e6</td><td>1717.376378</td><td>1-LH</td><td>2-300</td><td>86</td><td>176</td><td>58</td><td>148</td><td>24.0</td></tr></table>"
      ],
      "text/plain": [
       "6x30 DataFrame\n",
       "| Row | Subject    | Site   | Exclusions | DOS        | DOB       | Age |\n",
       "|-----|------------|--------|------------|------------|-----------|-----|\n",
       "| 1   | \"3002-102\" | \"UCSF\" | \"no\"       | \"11/4/11\"  | \"1/24/01\" | 10  |\n",
       "| 2   | \"3002-102\" | \"UCSF\" | \"no\"       | \"11/4/11\"  | \"1/24/01\" | 10  |\n",
       "| 3   | \"3002-102\" | \"UCSF\" | \"no\"       | \"11/4/11\"  | \"1/24/01\" | 10  |\n",
       "| 4   | \"3002-102\" | \"UCSF\" | \"no\"       | \"11/4/11\"  | \"1/24/01\" | 10  |\n",
       "| 5   | \"3003-101\" | \"UCSF\" | \"no\"       | \"11/18/11\" | \"3/3/99\"  | 12  |\n",
       "| 6   | \"3003-101\" | \"UCSF\" | \"no\"       | \"11/18/11\" | \"3/3/99\"  | 12  |\n",
       "\n",
       "| Row | Age_Calc | AgeGroup | Gender | Handedness | Dx        | Chromosome |\n",
       "|-----|----------|----------|--------|------------|-----------|------------|\n",
       "| 1   | 10.784   | \"child\"  | \"male\" | \"right\"    | \"proband\" | \"16p\"      |\n",
       "| 2   | 10.784   | \"child\"  | \"male\" | \"right\"    | \"proband\" | \"16p\"      |\n",
       "| 3   | 10.784   | \"child\"  | \"male\" | \"right\"    | \"proband\" | \"16p\"      |\n",
       "| 4   | 10.784   | \"child\"  | \"male\" | \"right\"    | \"proband\" | \"16p\"      |\n",
       "| 5   | 12.721   | \"child\"  | \"male\" | \"right\"    | \"proband\" | \"16p\"      |\n",
       "| 6   | 12.721   | \"child\"  | \"male\" | \"right\"    | \"proband\" | \"16p\"      |\n",
       "\n",
       "| Row | Case          | Copies        | ASD     | NVIQ | VIQ | CELF_4 |\n",
       "|-----|---------------|---------------|---------|------|-----|--------|\n",
       "| 1   | \"duplication\" | \"duplication\" | \"FALSE\" | 77   | 86  | 75     |\n",
       "| 2   | \"duplication\" | \"duplication\" | \"FALSE\" | 77   | 86  | 75     |\n",
       "| 3   | \"duplication\" | \"duplication\" | \"FALSE\" | 77   | 86  | 75     |\n",
       "| 4   | \"duplication\" | \"duplication\" | \"FALSE\" | 77   | 86  | 75     |\n",
       "| 5   | \"deletion\"    | \"deletion\"    | \"FALSE\" | 102  | 106 | 88     |\n",
       "| 6   | \"deletion\"    | \"deletion\"    | \"FALSE\" | 102  | 106 | 88     |\n",
       "\n",
       "| Row | SRS_parent | SRS_adult | CTOPP | ICV2      | cmICV   | Hem    |\n",
       "|-----|------------|-----------|-------|-----------|---------|--------|\n",
       "| 1   | 145        | NA        | 6     | 1.42231e6 | 1422.31 | \"2-RH\" |\n",
       "| 2   | 145        | NA        | 6     | 1.42231e6 | 1422.31 | \"2-RH\" |\n",
       "| 3   | 145        | NA        | 6     | 1.42231e6 | 1422.31 | \"2-RH\" |\n",
       "| 4   | 145        | NA        | 6     | 1.42231e6 | 1422.31 | \"2-RH\" |\n",
       "| 5   | 6          | NA        | 3     | 1.71738e6 | 1717.38 | \"1-LH\" |\n",
       "| 6   | 6          | NA        | 3     | 1.71738e6 | 1717.38 | \"1-LH\" |\n",
       "\n",
       "| Row | Cond     | M50Lat | M100Lat | M50LatCorr | M100LatCorr | dB_SL |\n",
       "|-----|----------|--------|---------|------------|-------------|-------|\n",
       "| 1   | \"1-200\"  | NA     | 162     | NA         | 134         | 25.0  |\n",
       "| 2   | \"2-300\"  | NA     | 148     | NA         | 120         | 25.0  |\n",
       "| 3   | \"3-500\"  | NA     | 146     | NA         | 118         | 25.0  |\n",
       "| 4   | \"4-1000\" | 116    | 166     | 88         | 138         | 25.0  |\n",
       "| 5   | \"1-200\"  | NA     | 180     | NA         | 152         | 24.0  |\n",
       "| 6   | \"2-300\"  | 86     | 176     | 58         | 148         | 24.0  |"
      ]
     },
     "execution_count": 9,
     "metadata": {},
     "output_type": "execute_result"
    }
   ],
   "source": [
    "head(child_data)"
   ]
  },
  {
   "cell_type": "code",
   "execution_count": 10,
   "metadata": {
    "collapsed": false
   },
   "outputs": [
    {
     "name": "stdout",
     "output_type": "stream",
     "text": [
      "DataFrame  534 observations of 30 variables\n",
      "  Subject: DataArray{UTF8String,1}(534) UTF8String[\"3002-102\",\"3002-102\",\"3002-102\",\"3002-102\"]\n",
      "  Site: DataArray{UTF8String,1}(534) UTF8String[\"UCSF\",\"UCSF\",\"UCSF\",\"UCSF\"]\n",
      "  Exclusions: DataArray{UTF8String,1}(534) UTF8String[\"no\",\"no\",\"no\",\"no\"]\n",
      "  DOS: DataArray{UTF8String,1}(534) UTF8String[\"11/4/11\",\"11/4/11\",\"11/4/11\",\"11/4/11\"]\n",
      "  DOB: DataArray{UTF8String,1}(534) UTF8String[\"1/24/01\",\"1/24/01\",\"1/24/01\",\"1/24/01\"]\n",
      "  Age: DataArray{Int64,1}(534) [10,10,10,10]\n",
      "  Age_Calc: DataArray{Float64,1}(534) [10.784,10.784,10.784,10.784]\n",
      "  AgeGroup: DataArray{UTF8String,1}(534) UTF8String[\"child\",\"child\",\"child\",\"child\"]\n",
      "  Gender: DataArray{UTF8String,1}(534) UTF8String[\"male\",\"male\",\"male\",\"male\"]\n",
      "  Handedness: DataArray{UTF8String,1}(534) UTF8String[\"right\",\"right\",\"right\",\"right\"]\n",
      "  Dx: DataArray{UTF8String,1}(534) UTF8String[\"proband\",\"proband\",\"proband\",\"proband\"]\n",
      "  Chromosome: DataArray{UTF8String,1}(534) UTF8String[\"16p\",\"16p\",\"16p\",\"16p\"]\n",
      "  Case: DataArray{UTF8String,1}(534) UTF8String[\"duplication\",\"duplication\",\"duplication\",\"duplication\"]\n",
      "  Copies: DataArray{UTF8String,1}(534) UTF8String[\"duplication\",\"duplication\",\"duplication\",\"duplication\"]\n",
      "  ASD: DataArray{UTF8String,1}(534) UTF8String[\"FALSE\",\"FALSE\",\"FALSE\",\"FALSE\"]\n",
      "  NVIQ: DataArray{Int64,1}(534) [77,77,77,77]\n",
      "  VIQ: DataArray{Int64,1}(534) [86,86,86,86]\n",
      "  CELF_4: DataArray{Int64,1}(534) [75,75,75,75]\n",
      "  SRS_parent: DataArray{Int64,1}(534) [145,145,145,145]\n",
      "  SRS_adult: DataArray{Int64,1}(534) [NA,NA,NA,NA]\n",
      "  CTOPP: DataArray{Int64,1}(534) [6,6,6,6]\n",
      "  ICV2: DataArray{Float64,1}(534) [1.42231e6,1.42231e6,1.42231e6,1.42231e6]\n",
      "  cmICV: DataArray{Float64,1}(534) [1422.31,1422.31,1422.31,1422.31]\n",
      "  Hem: DataArray{UTF8String,1}(534) UTF8String[\"2-RH\",\"2-RH\",\"2-RH\",\"2-RH\"]\n",
      "  Cond: DataArray{UTF8String,1}(534) UTF8String[\"1-200\",\"2-300\",\"3-500\",\"4-1000\"]\n",
      "  M50Lat: DataArray{Int64,1}(534) [NA,NA,NA,116]\n",
      "  M100Lat: DataArray{Int64,1}(534) [162,148,146,166]\n",
      "  M50LatCorr: DataArray{Int64,1}(534) [NA,NA,NA,88]\n",
      "  M100LatCorr: DataArray{Int64,1}(534) [134,120,118,138]\n",
      "  dB_SL: DataArray{Float64,1}(534) [25.0,25.0,25.0,25.0]\n"
     ]
    }
   ],
   "source": [
    "dump(child_data)"
   ]
  },
  {
   "cell_type": "markdown",
   "metadata": {},
   "source": [
    "Once again, make factors class `PooledDataArray`:"
   ]
  },
  {
   "cell_type": "code",
   "execution_count": 11,
   "metadata": {
    "collapsed": false
   },
   "outputs": [
    {
     "name": "stdout",
     "output_type": "stream",
     "text": [
      "DataFrame  534 observations of 30 variables\n",
      "  Subject: PooledDataArray{UTF8String,Uint8,1}(534) UTF8String[\"3002-102\",\"3002-102\",\"3002-102\",\"3002-102\"]\n",
      "  Site: PooledDataArray{UTF8String,Uint8,1}(534) UTF8String[\"UCSF\",\"UCSF\",\"UCSF\",\"UCSF\"]\n",
      "  Exclusions: DataArray{UTF8String,1}(534) UTF8String[\"no\",\"no\",\"no\",\"no\"]\n",
      "  DOS: DataArray{UTF8String,1}(534) UTF8String[\"11/4/11\",\"11/4/11\",\"11/4/11\",\"11/4/11\"]\n",
      "  DOB: DataArray{UTF8String,1}(534) UTF8String[\"1/24/01\",\"1/24/01\",\"1/24/01\",\"1/24/01\"]\n",
      "  Age: DataArray{Int64,1}(534) [10,10,10,10]\n",
      "  Age_Calc: DataArray{Float64,1}(534) [10.784,10.784,10.784,10.784]\n",
      "  AgeGroup: DataArray{UTF8String,1}(534) UTF8String[\"child\",\"child\",\"child\",\"child\"]\n",
      "  Gender: DataArray{UTF8String,1}(534) UTF8String[\"male\",\"male\",\"male\",\"male\"]\n",
      "  Handedness: DataArray{UTF8String,1}(534) UTF8String[\"right\",\"right\",\"right\",\"right\"]\n",
      "  Dx: DataArray{UTF8String,1}(534) UTF8String[\"proband\",\"proband\",\"proband\",\"proband\"]\n",
      "  Chromosome: DataArray{UTF8String,1}(534) UTF8String[\"16p\",\"16p\",\"16p\",\"16p\"]\n",
      "  Case: PooledDataArray{UTF8String,Uint8,1}(534) UTF8String[\"duplication\",\"duplication\",\"duplication\",\"duplication\"]\n",
      "  Copies: DataArray{UTF8String,1}(534) UTF8String[\"duplication\",\"duplication\",\"duplication\",\"duplication\"]\n",
      "  ASD: DataArray{UTF8String,1}(534) UTF8String[\"FALSE\",\"FALSE\",\"FALSE\",\"FALSE\"]\n",
      "  NVIQ: DataArray{Int64,1}(534) [77,77,77,77]\n",
      "  VIQ: DataArray{Int64,1}(534) [86,86,86,86]\n",
      "  CELF_4: DataArray{Int64,1}(534) [75,75,75,75]\n",
      "  SRS_parent: DataArray{Int64,1}(534) [145,145,145,145]\n",
      "  SRS_adult: DataArray{Int64,1}(534) [NA,NA,NA,NA]\n",
      "  CTOPP: DataArray{Int64,1}(534) [6,6,6,6]\n",
      "  ICV2: DataArray{Float64,1}(534) [1.42231e6,1.42231e6,1.42231e6,1.42231e6]\n",
      "  cmICV: DataArray{Float64,1}(534) [1422.31,1422.31,1422.31,1422.31]\n",
      "  Hem: PooledDataArray{UTF8String,Uint8,1}(534) UTF8String[\"2-RH\",\"2-RH\",\"2-RH\",\"2-RH\"]\n",
      "  Cond: PooledDataArray{UTF8String,Uint8,1}(534) UTF8String[\"1-200\",\"2-300\",\"3-500\",\"4-1000\"]\n",
      "  M50Lat: DataArray{Int64,1}(534) [NA,NA,NA,116]\n",
      "  M100Lat: DataArray{Int64,1}(534) [162,148,146,166]\n",
      "  M50LatCorr: DataArray{Int64,1}(534) [NA,NA,NA,88]\n",
      "  M100LatCorr: DataArray{Int64,1}(534) [134,120,118,138]\n",
      "  dB_SL: DataArray{Float64,1}(534) [25.0,25.0,25.0,25.0]\n"
     ]
    }
   ],
   "source": [
    "pool!(child_data, [:Subject, :Hem, :Cond, :Case, :Site])\n",
    "dump(child_data)"
   ]
  },
  {
   "cell_type": "markdown",
   "metadata": {},
   "source": [
    "Fit the LMM:"
   ]
  },
  {
   "cell_type": "code",
   "execution_count": 12,
   "metadata": {
    "collapsed": true
   },
   "outputs": [],
   "source": [
    "child_addmodel = fit(lmm(M100LatCorr ~ Hem + Cond + Case + Site + Age_Calc + (Cond + Hem | Subject), child_data));"
   ]
  },
  {
   "cell_type": "code",
   "execution_count": 13,
   "metadata": {
    "collapsed": false
   },
   "outputs": [
    {
     "data": {
      "text/plain": [
       "Linear mixed model fit by maximum likelihood\n",
       "Formula: M100LatCorr ~ Hem + Cond + Case + Site + Age_Calc + ((Cond + Hem) | Subject)\n",
       "\n",
       " logLik: -2101.511696, deviance: 4203.023392\n",
       "\n",
       "Variance components:\n",
       "           Variance   Std.Dev.    Corr.\n",
       " Subject  479.229768 21.8913172\n",
       "           13.274600  3.6434325  0.32\n",
       "           41.982576  6.4793963 -0.09 -0.09\n",
       "           75.085061  8.6651637 -0.31 -0.31 -0.31\n",
       "          364.617204 19.0949523 -0.51 -0.51 -0.51 -0.51\n",
       " Residual  49.670257  7.0477129\n",
       " Number of obs: 534; levels of grouping factors: 96\n",
       "\n",
       "  Fixed-effects parameters:\n",
       "                 Estimate Std.Error   z value\n",
       "(Intercept)       192.371   10.4107   18.4782\n",
       "Hem2-RH          -14.5908   2.29338  -6.36214\n",
       "Cond2-300        -4.47203   1.02708  -4.35413\n",
       "Cond3-500        -8.78877    1.1908  -7.38058\n",
       "Cond4-1000       -16.5421   1.32584  -12.4767\n",
       "Casedeletion      20.9439   4.34312   4.82231\n",
       "Caseduplication  -5.44841    5.5698 -0.978206\n",
       "SiteUCSF         -2.45386   3.80511 -0.644885\n",
       "Age_Calc         -3.93177  0.739529  -5.31659\n"
      ]
     },
     "execution_count": 13,
     "metadata": {},
     "output_type": "execute_result"
    }
   ],
   "source": [
    "child_addmodel"
   ]
  },
  {
   "cell_type": "markdown",
   "metadata": {},
   "source": [
    "And compare it to the R output:"
   ]
  },
  {
   "cell_type": "raw",
   "metadata": {},
   "source": [
    "Linear mixed model fit by maximum likelihood  ['lmerMod']\n",
    "Formula: M100LatCorr ~ Hem + Cond + Case + Age_Calc + Site + (Cond + Hem |  \n",
    "    Subject)\n",
    "   Data: child.data\n",
    "\n",
    "     AIC      BIC   logLik deviance df.resid \n",
    "  4253.0   4360.0  -2101.5   4203.0      509 \n",
    "\n",
    "Scaled residuals: \n",
    "    Min      1Q  Median      3Q     Max \n",
    "-4.6691 -0.4596 -0.0101  0.4325  2.6082 \n",
    "\n",
    "Random effects:\n",
    " Groups   Name        Variance Std.Dev. Corr                   \n",
    " Subject  (Intercept) 479.23   21.891                          \n",
    "          Cond2-300    13.28    3.644    0.32                  \n",
    "          Cond3-500    41.98    6.479   -0.09  0.66            \n",
    "          Cond4-1000   75.08    8.665   -0.31  0.61  0.89      \n",
    "          Hem2-RH     364.62   19.095   -0.51 -0.13  0.22  0.00\n",
    " Residual              49.67    7.048                          \n",
    "Number of obs: 534, groups:  Subject, 96\n",
    "\n",
    "Fixed effects:\n",
    "                Estimate Std. Error t value\n",
    "(Intercept)     192.3710    10.4107  18.478\n",
    "Hem2-RH         -14.5908     2.2934  -6.362\n",
    "Cond2-300        -4.4720     1.0271  -4.354\n",
    "Cond3-500        -8.7888     1.1908  -7.381\n",
    "Cond4-1000      -16.5421     1.3258 -12.477\n",
    "Casedeletion     20.9438     4.3431   4.822\n",
    "Caseduplication  -5.4485     5.5698  -0.978\n",
    "Age_Calc         -3.9318     0.7395  -5.317\n",
    "SiteUCSF         -2.4539     3.8051  -0.645"
   ]
  },
  {
   "cell_type": "markdown",
   "metadata": {},
   "source": [
    "Once again, the output is identical aside from precision differences."
   ]
  },
  {
   "cell_type": "markdown",
   "metadata": {},
   "source": [
    "##Proportion correct analysis in AX task\n",
    "Now to revisit the proportion correct analysis. The model call to `GLM` in Julia will require specifying both the link function and the exact link explicitly. In R, when `binomial` was called, it used a logit link as the default."
   ]
  },
  {
   "cell_type": "code",
   "execution_count": 14,
   "metadata": {
    "collapsed": false
   },
   "outputs": [],
   "source": [
    "# used a version of the file with the ItemPair column appended\n",
    "dataset = \"~/GitHub/model-comparison-r-julia/data/psycho-data-april-2015.csv\"\n",
    "psycho_data = readtable(expanduser(dataset), header = true);"
   ]
  },
  {
   "cell_type": "code",
   "execution_count": 15,
   "metadata": {
    "collapsed": false
   },
   "outputs": [
    {
     "data": {
      "text/html": [
       "<table class=\"data-frame\"><tr><th></th><th>SubjectAssgn</th><th>GenID</th><th>ExpAssgn</th><th>Language</th><th>Training</th><th>TrainType</th><th>Sex</th><th>Instrument</th><th>InstYears</th><th>InstPlay</th><th>EarTrain</th><th>EarTrainYear</th><th>Vowel</th><th>VowelHeight</th><th>VowelPosition</th><th>F1</th><th>F2</th><th>F3</th><th>F1_F2</th><th>F1_F3</th><th>F2_F3</th><th>BarkF2_F1</th><th>BarkF3_F1</th><th>BarkF3_F2</th><th>Item</th><th>ItemType</th><th>SCGDiff</th><th>logSCGDiff</th><th>RT</th><th>RespNum</th><th>RespNum2</th><th>absRT</th><th>logAbsRT</th><th>ItemPair</th></tr><tr><th>1</th><td>a-i-subject-1</td><td>Subject1</td><td>a-i</td><td>english</td><td>yes</td><td>formal</td><td>female</td><td>piano</td><td>12</td><td>current</td><td>no</td><td>n/a</td><td>a</td><td>low</td><td>back</td><td>768</td><td>1333</td><td>2522</td><td>0.576</td><td>0.305</td><td>0.529</td><td>3.306</td><td>7.539</td><td>4.233</td><td>a-2-2</td><td>same</td><td>0.0</td><td>0.0</td><td>684.71</td><td>1</td><td>100</td><td>684.71</td><td>2.835506671</td><td>2-2</td></tr><tr><th>2</th><td>a-i-subject-1</td><td>Subject1</td><td>a-i</td><td>english</td><td>yes</td><td>formal</td><td>female</td><td>piano</td><td>12</td><td>current</td><td>no</td><td>n/a</td><td>a</td><td>low</td><td>back</td><td>768</td><td>1333</td><td>2522</td><td>0.576</td><td>0.305</td><td>0.529</td><td>3.306</td><td>7.539</td><td>4.233</td><td>a-2-2</td><td>same</td><td>0.0</td><td>0.0</td><td>707.26</td><td>1</td><td>100</td><td>707.26</td><td>2.849579097</td><td>2-2</td></tr><tr><th>3</th><td>a-i-subject-1</td><td>Subject1</td><td>a-i</td><td>english</td><td>yes</td><td>formal</td><td>female</td><td>piano</td><td>12</td><td>current</td><td>no</td><td>n/a</td><td>a</td><td>low</td><td>back</td><td>768</td><td>1333</td><td>2522</td><td>0.576</td><td>0.305</td><td>0.529</td><td>3.306</td><td>7.539</td><td>4.233</td><td>a-2-2</td><td>same</td><td>0.0</td><td>0.0</td><td>443.42</td><td>1</td><td>100</td><td>443.42</td><td>2.646815278</td><td>2-2</td></tr><tr><th>4</th><td>a-i-subject-1</td><td>Subject1</td><td>a-i</td><td>english</td><td>yes</td><td>formal</td><td>female</td><td>piano</td><td>12</td><td>current</td><td>no</td><td>n/a</td><td>a</td><td>low</td><td>back</td><td>768</td><td>1333</td><td>2522</td><td>0.576</td><td>0.305</td><td>0.529</td><td>3.306</td><td>7.539</td><td>4.233</td><td>a-2-2</td><td>same</td><td>0.0</td><td>0.0</td><td>561.19</td><td>1</td><td>100</td><td>561.19</td><td>2.749109924</td><td>2-2</td></tr><tr><th>5</th><td>a-i-subject-1</td><td>Subject1</td><td>a-i</td><td>english</td><td>yes</td><td>formal</td><td>female</td><td>piano</td><td>12</td><td>current</td><td>no</td><td>n/a</td><td>a</td><td>low</td><td>back</td><td>768</td><td>1333</td><td>2522</td><td>0.576</td><td>0.305</td><td>0.529</td><td>3.306</td><td>7.539</td><td>4.233</td><td>a-2-2</td><td>same</td><td>0.0</td><td>0.0</td><td>534.67</td><td>1</td><td>100</td><td>534.67</td><td>2.728085817</td><td>2-2</td></tr><tr><th>6</th><td>a-i-subject-1</td><td>Subject1</td><td>a-i</td><td>english</td><td>yes</td><td>formal</td><td>female</td><td>piano</td><td>12</td><td>current</td><td>no</td><td>n/a</td><td>a</td><td>low</td><td>back</td><td>768</td><td>1333</td><td>2522</td><td>0.576</td><td>0.305</td><td>0.529</td><td>3.306</td><td>7.539</td><td>4.233</td><td>a-2-2</td><td>same</td><td>0.0</td><td>0.0</td><td>514.24</td><td>1</td><td>100</td><td>514.24</td><td>2.711165855</td><td>2-2</td></tr></table>"
      ],
      "text/plain": [
       "6x34 DataFrame\n",
       "| Row | SubjectAssgn    | GenID      | ExpAssgn | Language  | Training |\n",
       "|-----|-----------------|------------|----------|-----------|----------|\n",
       "| 1   | \"a-i-subject-1\" | \"Subject1\" | \"a-i\"    | \"english\" | \"yes\"    |\n",
       "| 2   | \"a-i-subject-1\" | \"Subject1\" | \"a-i\"    | \"english\" | \"yes\"    |\n",
       "| 3   | \"a-i-subject-1\" | \"Subject1\" | \"a-i\"    | \"english\" | \"yes\"    |\n",
       "| 4   | \"a-i-subject-1\" | \"Subject1\" | \"a-i\"    | \"english\" | \"yes\"    |\n",
       "| 5   | \"a-i-subject-1\" | \"Subject1\" | \"a-i\"    | \"english\" | \"yes\"    |\n",
       "| 6   | \"a-i-subject-1\" | \"Subject1\" | \"a-i\"    | \"english\" | \"yes\"    |\n",
       "\n",
       "| Row | TrainType | Sex      | Instrument | InstYears | InstPlay  | EarTrain |\n",
       "|-----|-----------|----------|------------|-----------|-----------|----------|\n",
       "| 1   | \"formal\"  | \"female\" | \"piano\"    | \"12\"      | \"current\" | \"no\"     |\n",
       "| 2   | \"formal\"  | \"female\" | \"piano\"    | \"12\"      | \"current\" | \"no\"     |\n",
       "| 3   | \"formal\"  | \"female\" | \"piano\"    | \"12\"      | \"current\" | \"no\"     |\n",
       "| 4   | \"formal\"  | \"female\" | \"piano\"    | \"12\"      | \"current\" | \"no\"     |\n",
       "| 5   | \"formal\"  | \"female\" | \"piano\"    | \"12\"      | \"current\" | \"no\"     |\n",
       "| 6   | \"formal\"  | \"female\" | \"piano\"    | \"12\"      | \"current\" | \"no\"     |\n",
       "\n",
       "| Row | EarTrainYear | Vowel | VowelHeight | VowelPosition | F1  | F2   | F3   |\n",
       "|-----|--------------|-------|-------------|---------------|-----|------|------|\n",
       "| 1   | \"n/a\"        | \"a\"   | \"low\"       | \"back\"        | 768 | 1333 | 2522 |\n",
       "| 2   | \"n/a\"        | \"a\"   | \"low\"       | \"back\"        | 768 | 1333 | 2522 |\n",
       "| 3   | \"n/a\"        | \"a\"   | \"low\"       | \"back\"        | 768 | 1333 | 2522 |\n",
       "| 4   | \"n/a\"        | \"a\"   | \"low\"       | \"back\"        | 768 | 1333 | 2522 |\n",
       "| 5   | \"n/a\"        | \"a\"   | \"low\"       | \"back\"        | 768 | 1333 | 2522 |\n",
       "| 6   | \"n/a\"        | \"a\"   | \"low\"       | \"back\"        | 768 | 1333 | 2522 |\n",
       "\n",
       "| Row | F1_F2 | F1_F3 | F2_F3 | BarkF2_F1 | BarkF3_F1 | BarkF3_F2 | Item    |\n",
       "|-----|-------|-------|-------|-----------|-----------|-----------|---------|\n",
       "| 1   | 0.576 | 0.305 | 0.529 | 3.306     | 7.539     | 4.233     | \"a-2-2\" |\n",
       "| 2   | 0.576 | 0.305 | 0.529 | 3.306     | 7.539     | 4.233     | \"a-2-2\" |\n",
       "| 3   | 0.576 | 0.305 | 0.529 | 3.306     | 7.539     | 4.233     | \"a-2-2\" |\n",
       "| 4   | 0.576 | 0.305 | 0.529 | 3.306     | 7.539     | 4.233     | \"a-2-2\" |\n",
       "| 5   | 0.576 | 0.305 | 0.529 | 3.306     | 7.539     | 4.233     | \"a-2-2\" |\n",
       "| 6   | 0.576 | 0.305 | 0.529 | 3.306     | 7.539     | 4.233     | \"a-2-2\" |\n",
       "\n",
       "| Row | ItemType | SCGDiff | logSCGDiff | RT     | RespNum | RespNum2 | absRT  |\n",
       "|-----|----------|---------|------------|--------|---------|----------|--------|\n",
       "| 1   | \"same\"   | 0.0     | 0.0        | 684.71 | 1       | 100      | 684.71 |\n",
       "| 2   | \"same\"   | 0.0     | 0.0        | 707.26 | 1       | 100      | 707.26 |\n",
       "| 3   | \"same\"   | 0.0     | 0.0        | 443.42 | 1       | 100      | 443.42 |\n",
       "| 4   | \"same\"   | 0.0     | 0.0        | 561.19 | 1       | 100      | 561.19 |\n",
       "| 5   | \"same\"   | 0.0     | 0.0        | 534.67 | 1       | 100      | 534.67 |\n",
       "| 6   | \"same\"   | 0.0     | 0.0        | 514.24 | 1       | 100      | 514.24 |\n",
       "\n",
       "| Row | logAbsRT | ItemPair |\n",
       "|-----|----------|----------|\n",
       "| 1   | 2.83551  | \"2-2\"    |\n",
       "| 2   | 2.84958  | \"2-2\"    |\n",
       "| 3   | 2.64682  | \"2-2\"    |\n",
       "| 4   | 2.74911  | \"2-2\"    |\n",
       "| 5   | 2.72809  | \"2-2\"    |\n",
       "| 6   | 2.71117  | \"2-2\"    |"
      ]
     },
     "execution_count": 15,
     "metadata": {},
     "output_type": "execute_result"
    }
   ],
   "source": [
    "head(psycho_data)"
   ]
  },
  {
   "cell_type": "code",
   "execution_count": 16,
   "metadata": {
    "collapsed": false
   },
   "outputs": [
    {
     "name": "stdout",
     "output_type": "stream",
     "text": [
      "DataFrame  12800 observations of 34 variables\n",
      "  SubjectAssgn: DataArray{UTF8String,1}(12800) UTF8String[\"a-i-subject-1\",\"a-i-subject-1\",\"a-i-subject-1\",\"a-i-subject-1\"]\n",
      "  GenID: DataArray{UTF8String,1}(12800) UTF8String[\"Subject1\",\"Subject1\",\"Subject1\",\"Subject1\"]\n",
      "  ExpAssgn: DataArray{UTF8String,1}(12800) UTF8String[\"a-i\",\"a-i\",\"a-i\",\"a-i\"]\n",
      "  Language: DataArray{UTF8String,1}(12800) UTF8String[\"english\",\"english\",\"english\",\"english\"]\n",
      "  Training: DataArray{UTF8String,1}(12800) UTF8String[\"yes\",\"yes\",\"yes\",\"yes\"]\n",
      "  TrainType: DataArray{UTF8String,1}(12800) UTF8String[\"formal\",\"formal\",\"formal\",\"formal\"]\n",
      "  Sex: DataArray{UTF8String,1}(12800) UTF8String[\"female\",\"female\",\"female\",\"female\"]\n",
      "  Instrument: DataArray{UTF8String,1}(12800) UTF8String[\"piano\",\"piano\",\"piano\",\"piano\"]\n",
      "  InstYears: DataArray{UTF8String,1}(12800) UTF8String[\"12\",\"12\",\"12\",\"12\"]\n",
      "  InstPlay: DataArray{UTF8String,1}(12800) UTF8String[\"current\",\"current\",\"current\",\"current\"]\n",
      "  EarTrain: DataArray{UTF8String,1}(12800) UTF8String[\"no\",\"no\",\"no\",\"no\"]\n",
      "  EarTrainYear: DataArray{UTF8String,1}(12800) UTF8String[\"n/a\",\"n/a\",\"n/a\",\"n/a\"]\n",
      "  Vowel: DataArray{UTF8String,1}(12800) UTF8String[\"a\",\"a\",\"a\",\"a\"]\n",
      "  VowelHeight: DataArray{UTF8String,1}(12800) UTF8String[\"low\",\"low\",\"low\",\"low\"]\n",
      "  VowelPosition: DataArray{UTF8String,1}(12800) UTF8String[\"back\",\"back\",\"back\",\"back\"]\n",
      "  F1: DataArray{Int64,1}(12800) [768,768,768,768]\n",
      "  F2: DataArray{Int64,1}(12800) [1333,1333,1333,1333]\n",
      "  F3: DataArray{Int64,1}(12800) [2522,2522,2522,2522]\n",
      "  F1_F2: DataArray{Float64,1}(12800) [0.576,0.576,0.576,0.576]\n",
      "  F1_F3: DataArray{Float64,1}(12800) [0.305,0.305,0.305,0.305]\n",
      "  F2_F3: DataArray{Float64,1}(12800) [0.529,0.529,0.529,0.529]\n",
      "  BarkF2_F1: DataArray{Float64,1}(12800) [3.306,3.306,3.306,3.306]\n",
      "  BarkF3_F1: DataArray{Float64,1}(12800) [7.539,7.539,7.539,7.539]\n",
      "  BarkF3_F2: DataArray{Float64,1}(12800) [4.233,4.233,4.233,4.233]\n",
      "  Item: DataArray{UTF8String,1}(12800) UTF8String[\"a-2-2\",\"a-2-2\",\"a-2-2\",\"a-2-2\"]\n",
      "  ItemType: DataArray{UTF8String,1}(12800) UTF8String[\"same\",\"same\",\"same\",\"same\"]\n",
      "  SCGDiff: DataArray{Float64,1}(12800) [0.0,0.0,0.0,0.0]\n",
      "  logSCGDiff: DataArray{Float64,1}(12800) [0.0,0.0,0.0,0.0]\n",
      "  RT: DataArray{Float64,1}(12800) [684.71,707.26,443.42,561.19]\n",
      "  RespNum: DataArray{Int64,1}(12800) [1,1,1,1]\n",
      "  RespNum2: DataArray{Int64,1}(12800) [100,100,100,100]\n",
      "  absRT: DataArray{Float64,1}(12800) [684.71,707.26,443.42,561.19]\n",
      "  logAbsRT: DataArray{Float64,1}(12800) [2.83551,2.84958,2.64682,2.74911]\n",
      "  ItemPair: DataArray{UTF8String,1}(12800) UTF8String[\"2-2\",\"2-2\",\"2-2\",\"2-2\"]\n"
     ]
    }
   ],
   "source": [
    "dump(psycho_data)"
   ]
  },
  {
   "cell_type": "code",
   "execution_count": 17,
   "metadata": {
    "collapsed": true
   },
   "outputs": [],
   "source": [
    "using GLM"
   ]
  },
  {
   "cell_type": "code",
   "execution_count": 18,
   "metadata": {
    "collapsed": false
   },
   "outputs": [
    {
     "name": "stdout",
     "output_type": "stream",
     "text": [
      "DataFrame  12800 observations of 34 variables\n",
      "  SubjectAssgn: PooledDataArray{UTF8String,Uint8,1}(12800) UTF8String[\"a-i-subject-1\",\"a-i-subject-1\",\"a-i-subject-1\",\"a-i-subject-1\"]\n",
      "  GenID: DataArray{UTF8String,1}(12800) UTF8String[\"Subject1\",\"Subject1\",\"Subject1\",\"Subject1\"]\n",
      "  ExpAssgn: DataArray{UTF8String,1}(12800) UTF8String[\"a-i\",\"a-i\",\"a-i\",\"a-i\"]\n",
      "  Language: DataArray{UTF8String,1}(12800) UTF8String[\"english\",\"english\",\"english\",\"english\"]\n",
      "  Training: DataArray{UTF8String,1}(12800) UTF8String[\"yes\",\"yes\",\"yes\",\"yes\"]\n",
      "  TrainType: DataArray{UTF8String,1}(12800) UTF8String[\"formal\",\"formal\",\"formal\",\"formal\"]\n",
      "  Sex: DataArray{UTF8String,1}(12800) UTF8String[\"female\",\"female\",\"female\",\"female\"]\n",
      "  Instrument: DataArray{UTF8String,1}(12800) UTF8String[\"piano\",\"piano\",\"piano\",\"piano\"]\n",
      "  InstYears: DataArray{UTF8String,1}(12800) UTF8String[\"12\",\"12\",\"12\",\"12\"]\n",
      "  InstPlay: DataArray{UTF8String,1}(12800) UTF8String[\"current\",\"current\",\"current\",\"current\"]\n",
      "  EarTrain: DataArray{UTF8String,1}(12800) UTF8String[\"no\",\"no\",\"no\",\"no\"]\n",
      "  EarTrainYear: DataArray{UTF8String,1}(12800) UTF8String[\"n/a\",\"n/a\",\"n/a\",\"n/a\"]\n",
      "  Vowel: PooledDataArray{UTF8String,Uint8,1}(12800) UTF8String[\"a\",\"a\",\"a\",\"a\"]\n",
      "  VowelHeight: DataArray{UTF8String,1}(12800) UTF8String[\"low\",\"low\",\"low\",\"low\"]\n",
      "  VowelPosition: DataArray{UTF8String,1}(12800) UTF8String[\"back\",\"back\",\"back\",\"back\"]\n",
      "  F1: DataArray{Int64,1}(12800) [768,768,768,768]\n",
      "  F2: DataArray{Int64,1}(12800) [1333,1333,1333,1333]\n",
      "  F3: DataArray{Int64,1}(12800) [2522,2522,2522,2522]\n",
      "  F1_F2: DataArray{Float64,1}(12800) [0.576,0.576,0.576,0.576]\n",
      "  F1_F3: DataArray{Float64,1}(12800) [0.305,0.305,0.305,0.305]\n",
      "  F2_F3: DataArray{Float64,1}(12800) [0.529,0.529,0.529,0.529]\n",
      "  BarkF2_F1: DataArray{Float64,1}(12800) [3.306,3.306,3.306,3.306]\n",
      "  BarkF3_F1: DataArray{Float64,1}(12800) [7.539,7.539,7.539,7.539]\n",
      "  BarkF3_F2: DataArray{Float64,1}(12800) [4.233,4.233,4.233,4.233]\n",
      "  Item: PooledDataArray{UTF8String,Uint8,1}(12800) UTF8String[\"a-2-2\",\"a-2-2\",\"a-2-2\",\"a-2-2\"]\n",
      "  ItemType: PooledDataArray{UTF8String,Uint8,1}(12800) UTF8String[\"same\",\"same\",\"same\",\"same\"]\n",
      "  SCGDiff: DataArray{Float64,1}(12800) [0.0,0.0,0.0,0.0]\n",
      "  logSCGDiff: DataArray{Float64,1}(12800) [0.0,0.0,0.0,0.0]\n",
      "  RT: DataArray{Float64,1}(12800) [684.71,707.26,443.42,561.19]\n",
      "  RespNum: DataArray{Int64,1}(12800) [1,1,1,1]\n",
      "  RespNum2: DataArray{Int64,1}(12800) [100,100,100,100]\n",
      "  absRT: DataArray{Float64,1}(12800) [684.71,707.26,443.42,561.19]\n",
      "  logAbsRT: DataArray{Float64,1}(12800) [2.83551,2.84958,2.64682,2.74911]\n",
      "  ItemPair: PooledDataArray{UTF8String,Uint8,1}(12800) UTF8String[\"2-2\",\"2-2\",\"2-2\",\"2-2\"]\n"
     ]
    }
   ],
   "source": [
    "pool!(psycho_data, [:Vowel, :ItemPair, :ItemType, :Item, :SubjectAssgn])\n",
    "dump(psycho_data)"
   ]
  },
  {
   "cell_type": "code",
   "execution_count": 19,
   "metadata": {
    "collapsed": false
   },
   "outputs": [],
   "source": [
    "psycho_vowel_glm = glm(RespNum ~ Vowel, psycho_data, Binomial(), LogitLink());\n",
    "psycho_item_pair_glm = glm(RespNum ~ ItemPair, psycho_data, Binomial(), LogitLink());\n",
    "psycho_vowel_item_glm = glm(RespNum ~ Vowel * ItemType, psycho_data, Binomial(), LogitLink());\n",
    "psycho_Item_glm = glm(RespNum ~ Item, psycho_data, Binomial(), LogitLink());"
   ]
  },
  {
   "cell_type": "markdown",
   "metadata": {},
   "source": [
    "Let's see what our results are (Julia first, then R):"
   ]
  },
  {
   "cell_type": "code",
   "execution_count": 20,
   "metadata": {
    "collapsed": false
   },
   "outputs": [
    {
     "data": {
      "text/plain": [
       "DataFrameRegressionModel{GeneralizedLinearModel{GlmResp{Array{Float64,1},Binomial,LogitLink},DensePredChol{Float64,Cholesky{Float64}}},Float64}:\n",
       "\n",
       "Coefficients:\n",
       "              Estimate Std.Error z value Pr(>|z|)\n",
       "(Intercept)  0.0668999  0.025014  2.6745   0.0075\n",
       "Vowel - i      1.33509 0.0509469 26.2056   <1e-99\n",
       "Vowel - u     0.849825 0.0464197 18.3074   <1e-74\n"
      ]
     },
     "execution_count": 20,
     "metadata": {},
     "output_type": "execute_result"
    }
   ],
   "source": [
    "psycho_vowel_glm"
   ]
  },
  {
   "cell_type": "raw",
   "metadata": {},
   "source": [
    "Call:\n",
    "glm(formula = RespNum ~ Vowel, family = binomial, data = psycho.data)\n",
    "\n",
    "Deviance Residuals: \n",
    "    Min       1Q   Median       3Q      Max  \n",
    "-1.8011  -1.2060   0.6634   1.1491   1.1491  \n",
    "\n",
    "Coefficients:\n",
    "            Estimate Std. Error z value Pr(>|z|)    \n",
    "(Intercept)  0.06690    0.02501   2.675  0.00748 ** \n",
    "Voweli       1.33509    0.05096  26.197  < 2e-16 ***\n",
    "Vowelu       0.84983    0.04645  18.297  < 2e-16 ***"
   ]
  },
  {
   "cell_type": "code",
   "execution_count": 21,
   "metadata": {
    "collapsed": false
   },
   "outputs": [
    {
     "data": {
      "text/plain": [
       "DataFrameRegressionModel{GeneralizedLinearModel{GlmResp{Array{Float64,1},Binomial,LogitLink},DensePredChol{Float64,Cholesky{Float64}}},Float64}:\n",
       "\n",
       "Coefficients:\n",
       "                           Estimate Std.Error   z value Pr(>|z|)\n",
       "(Intercept)                 2.32514 0.0981064   23.7002   <1e-99\n",
       "ItemPair - 2-square        -4.58466  0.136929   -33.482   <1e-99\n",
       "ItemPair - 23-2            -1.88373  0.113598  -16.5824   <1e-61\n",
       "ItemPair - 23-23            -0.1192  0.135516 -0.879603   0.3791\n",
       "ItemPair - 23-4            -2.97523  0.114419  -26.0028   <1e-99\n",
       "ItemPair - 23-square        -1.8043  0.113871  -15.8451   <1e-55\n",
       "ItemPair - 4-2             -2.13708  0.113038  -18.9059   <1e-78\n",
       "ItemPair - 4-4            -0.178943  0.134012  -1.33527   0.1818\n",
       "ItemPair - 4-square        -2.21565  0.112957   -19.615   <1e-84\n",
       "ItemPair - square-square   0.132165  0.142691  0.926232   0.3543\n"
      ]
     },
     "execution_count": 21,
     "metadata": {},
     "output_type": "execute_result"
    }
   ],
   "source": [
    "psycho_item_pair_glm"
   ]
  },
  {
   "cell_type": "raw",
   "metadata": {},
   "source": [
    "Call:\n",
    "glm(formula = RespNum ~ ItemPair, family = binomial, data = psycho.data)\n",
    "\n",
    "Deviance Residuals: \n",
    "    Min       1Q   Median       3Q      Max  \n",
    "-2.2537  -0.9165   0.4319   0.9657   2.1720  \n",
    "\n",
    "Coefficients:\n",
    "                      Estimate Std. Error z value Pr(>|z|)    \n",
    "(Intercept)            2.32514    0.09813  23.694   <2e-16 ***\n",
    "ItemPair23-2          -1.88373    0.11362 -16.579   <2e-16 ***\n",
    "ItemPair23-23         -0.11920    0.13554  -0.879    0.379    \n",
    "ItemPair23-4          -2.97523    0.11444 -25.998   <2e-16 ***\n",
    "ItemPair23-square     -1.80430    0.11389 -15.842   <2e-16 ***\n",
    "ItemPair2-square      -4.58466    0.13696 -33.476   <2e-16 ***\n",
    "ItemPair4-2           -2.13708    0.11306 -18.902   <2e-16 ***\n",
    "ItemPair4-4           -0.17894    0.13403  -1.335    0.182    \n",
    "ItemPair4-square      -2.21565    0.11298 -19.611   <2e-16 ***\n",
    "ItemPairsquare-square  0.13217    0.14275   0.926    0.355    "
   ]
  },
  {
   "cell_type": "code",
   "execution_count": 22,
   "metadata": {
    "collapsed": false
   },
   "outputs": [
    {
     "data": {
      "text/plain": [
       "DataFrameRegressionModel{GeneralizedLinearModel{GlmResp{Array{Float64,1},Binomial,LogitLink},DensePredChol{Float64,Cholesky{Float64}}},Float64}:\n",
       "\n",
       "Coefficients:\n",
       "                             Estimate Std.Error  z value Pr(>|z|)\n",
       "(Intercept)                  -1.06146  0.036928 -28.7439   <1e-99\n",
       "Vowel - i                      2.0704 0.0634328  32.6392   <1e-99\n",
       "Vowel - u                     1.40436 0.0592356  23.7081   <1e-99\n",
       "ItemType - same               3.33014 0.0772007  43.1361   <1e-99\n",
       "Vowel - i & ItemType - same  -2.06117  0.133722 -15.4138   <1e-52\n",
       "Vowel - u & ItemType - same  -1.37646  0.132319 -10.4026   <1e-24\n"
      ]
     },
     "execution_count": 22,
     "metadata": {},
     "output_type": "execute_result"
    }
   ],
   "source": [
    "psycho_vowel_item_glm"
   ]
  },
  {
   "cell_type": "raw",
   "metadata": {},
   "source": [
    "glm(formula = RespNum ~ Vowel * ItemType, family = binomial, \n",
    "    data = psycho.data)\n",
    "\n",
    "Deviance Residuals: \n",
    "    Min       1Q   Median       3Q      Max  \n",
    "-2.1874  -0.7709   0.4418   0.7885   1.6484  \n",
    "\n",
    "Coefficients:\n",
    "                    Estimate Std. Error z value Pr(>|z|)    \n",
    "(Intercept)         -1.06146    0.03693  -28.74   <2e-16 ***\n",
    "Voweli               2.07040    0.06343   32.64   <2e-16 ***\n",
    "Vowelu               1.40436    0.05924   23.71   <2e-16 ***\n",
    "ItemTypesame         3.33014    0.07720   43.14   <2e-16 ***\n",
    "Voweli:ItemTypesame -2.06117    0.13372  -15.41   <2e-16 ***\n",
    "Vowelu:ItemTypesame -1.37646    0.13232  -10.40   <2e-16 ***"
   ]
  },
  {
   "cell_type": "code",
   "execution_count": 23,
   "metadata": {
    "collapsed": false
   },
   "outputs": [
    {
     "data": {
      "text/plain": [
       "DataFrameRegressionModel{GeneralizedLinearModel{GlmResp{Array{Float64,1},Binomial,LogitLink},DensePredChol{Float64,Cholesky{Float64}}},Float64}:\n",
       "\n",
       "Coefficients:\n",
       "                            Estimate Std.Error      z value Pr(>|z|)\n",
       "(Intercept)                  2.25043  0.134595        16.72   <1e-62\n",
       "Item - a-2-square           -5.19475  0.224813      -23.107   <1e-99\n",
       "Item - a-23-2               -2.69511  0.157098     -17.1556   <1e-65\n",
       "Item - a-23-23            -0.0874539  0.187103    -0.467411   0.6402\n",
       "Item - a-23-4                -4.2107  0.180434     -23.3365   <1e-99\n",
       "Item - a-23-square          -2.67546   0.15701       -17.04   <1e-64\n",
       "Item - a-4-2                -3.04617    0.1594     -19.1102   <1e-80\n",
       "Item - a-4-4            -1.99244e-14  0.190346 -1.04675e-13   1.0000\n",
       "Item - a-4-square           -3.23556  0.161272     -20.0627   <1e-88\n",
       "Item - a-square-square      0.175054   0.19755     0.886124   0.3756\n",
       "Item - i-2-2                0.133907   0.24194     0.553471   0.5799\n",
       "Item - i-2-square           -3.75833  0.197924     -18.9888   <1e-79\n",
       "Item - i-23-2              -0.053204  0.229853     -0.23147   0.8169\n",
       "Item - i-23-23             0.0555988  0.236683     0.234908   0.8143\n",
       "Item - i-23-4               -1.08399  0.188074     -5.76364    <1e-8\n",
       "Item - i-23-square         0.0555988  0.236683     0.234908   0.8143\n",
       "Item - i-4-2               -0.633472  0.201814     -3.13889   0.0017\n",
       "Item - i-4-4               -0.120797  0.225879    -0.534788   0.5928\n",
       "Item - i-4-square          -0.804474  0.195883     -4.10691    <1e-4\n",
       "Item - i-square-square     0.0555988  0.236683     0.234908   0.8143\n",
       "Item - u-2-2                0.175054  0.244819     0.715034   0.4746\n",
       "Item - u-2-square           -4.48287  0.232004     -19.3224   <1e-82\n",
       "Item - u-23-2               -1.13508  0.186878     -6.07391    <1e-8\n",
       "Item - u-23-23             -0.053204  0.229853     -0.23147   0.8169\n",
       "Item - u-23-4               -2.81496  0.177872     -15.8258   <1e-55\n",
       "Item - u-23-square         -0.804474  0.195883     -4.10691    <1e-4\n",
       "Item - u-4-2                -1.24945  0.184437     -6.77441   <1e-10\n",
       "Item - u-4-4               -0.275636   0.21752     -1.26717   0.2051\n",
       "Item - u-4-square            -1.1182  0.187266     -5.97119    <1e-8\n",
       "Item - u-square-square      0.457607   0.26679      1.71523   0.0863\n"
      ]
     },
     "execution_count": 23,
     "metadata": {},
     "output_type": "execute_result"
    }
   ],
   "source": [
    "psycho_Item_glm"
   ]
  },
  {
   "cell_type": "raw",
   "metadata": {},
   "source": [
    "Call:\n",
    "glm(formula = RespNum ~ Item, family = binomial, data = psycho.data)\n",
    "\n",
    "Deviance Residuals: \n",
    "    Min       1Q   Median       3Q      Max  \n",
    "-2.3548  -0.5133   0.4359   0.5098   2.4478  \n",
    "\n",
    "Coefficients:\n",
    "                      Estimate Std. Error z value Pr(>|z|)    \n",
    "(Intercept)          2.250e+00  1.346e-01  16.718  < 2e-16 ***\n",
    "Itema-2-square      -5.195e+00  2.259e-01 -23.001  < 2e-16 ***\n",
    "Itema-23-2          -2.695e+00  1.571e-01 -17.154  < 2e-16 ***\n",
    "Itema-23-23         -8.745e-02  1.871e-01  -0.467   0.6402    \n",
    "Itema-23-4          -4.211e+00  1.804e-01 -23.335  < 2e-16 ***\n",
    "Itema-23-square     -2.675e+00  1.570e-01 -17.038  < 2e-16 ***\n",
    "Itema-4-2           -3.046e+00  1.594e-01 -19.108  < 2e-16 ***\n",
    "Itema-4-4            3.768e-14  1.904e-01   0.000   1.0000    \n",
    "Itema-4-square      -3.236e+00  1.613e-01 -20.061  < 2e-16 ***\n",
    "Itema-square-square  1.751e-01  1.976e-01   0.886   0.3757    \n",
    "Itemi-2-2            1.339e-01  2.420e-01   0.553   0.5801    \n",
    "Itemi-2-square      -3.758e+00  1.979e-01 -18.988  < 2e-16 ***\n",
    "Itemi-23-2          -5.320e-02  2.299e-01  -0.231   0.8170    \n",
    "Itemi-23-23          5.560e-02  2.367e-01   0.235   0.8143    \n",
    "Itemi-23-4          -1.084e+00  1.881e-01  -5.763 8.25e-09 ***\n",
    "Itemi-23-square      5.560e-02  2.367e-01   0.235   0.8143    \n",
    "Itemi-4-2           -6.335e-01  2.018e-01  -3.139   0.0017 ** \n",
    "Itemi-4-4           -1.208e-01  2.259e-01  -0.535   0.5928    \n",
    "Itemi-4-square      -8.045e-01  1.959e-01  -4.107 4.01e-05 ***\n",
    "Itemi-square-square  5.560e-02  2.367e-01   0.235   0.8143    \n",
    "Itemu-2-2            1.751e-01  2.449e-01   0.715   0.4748    \n",
    "Itemu-2-square      -4.483e+00  2.320e-01 -19.320  < 2e-16 ***\n",
    "Itemu-23-2          -1.135e+00  1.869e-01  -6.073 1.25e-09 ***\n",
    "Itemu-23-23         -5.320e-02  2.299e-01  -0.231   0.8170    \n",
    "Itemu-23-4          -2.815e+00  1.779e-01 -15.825  < 2e-16 ***\n",
    "Itemu-23-square     -8.045e-01  1.959e-01  -4.107 4.01e-05 ***\n",
    "Itemu-4-2           -1.249e+00  1.845e-01  -6.774 1.25e-11 ***\n",
    "Itemu-4-4           -2.756e-01  2.175e-01  -1.267   0.2051    \n",
    "Itemu-4-square      -1.118e+00  1.873e-01  -5.971 2.36e-09 ***\n",
    "Itemu-square-square  4.576e-01  2.673e-01   1.712   0.0869 .  "
   ]
  },
  {
   "cell_type": "markdown",
   "metadata": {},
   "source": [
    "So the results are similar and we can resonably conclude that the effects and effect sizes are consistent between models and languages (and statistical engines)."
   ]
  },
  {
   "cell_type": "markdown",
   "metadata": {},
   "source": [
    "##Conclusion\n",
    "So we have analyzed several datasets, once in R and once in Julia. In both cases, identical results were obtained, with the only differences being those of precision."
   ]
  },
  {
   "cell_type": "code",
   "execution_count": 24,
   "metadata": {
    "collapsed": false
   },
   "outputs": [
    {
     "name": "stdout",
     "output_type": "stream",
     "text": [
      "Julia Version 0.3.8\n",
      "Commit 79599ad (2015-04-30 23:40 UTC)\n",
      "Platform Info:\n",
      "  System: Darwin (x86_64-apple-darwin13.4.0)\n",
      "  CPU: Intel(R) Core(TM) i5-3210M CPU @ 2.50GHz\n",
      "  WORD_SIZE: 64\n",
      "  BLAS: libopenblas (USE64BITINT DYNAMIC_ARCH NO_AFFINITY Sandybridge)\n",
      "  LAPACK: libopenblas\n",
      "  LIBM: libopenlibm\n",
      "  LLVM: libLLVM-3.3\n"
     ]
    }
   ],
   "source": [
    "versioninfo()"
   ]
  }
 ],
 "metadata": {
  "kernelspec": {
   "display_name": "Julia 0.3.8",
   "language": "julia",
   "name": "julia-0.3"
  },
  "language_info": {
   "name": "julia",
   "version": "0.3.8"
  }
 },
 "nbformat": 4,
 "nbformat_minor": 0
}
